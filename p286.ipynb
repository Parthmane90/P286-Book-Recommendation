{
 "cells": [
  {
   "cell_type": "code",
   "execution_count": 210,
   "metadata": {},
   "outputs": [],
   "source": [
    "import pandas as pd\n",
    "import numpy as np\n",
    "import sklearn as sk\n",
    "import seaborn as sns\n",
    "import matplotlib.pyplot as plt"
   ]
  },
  {
   "cell_type": "code",
   "execution_count": 211,
   "metadata": {},
   "outputs": [],
   "source": [
    "books=pd.read_csv(\"Books.csv\", low_memory=False)\n",
    "ratings=pd.read_csv('Ratings.csv')\n",
    "users=pd.read_csv('Users.csv')"
   ]
  },
  {
   "cell_type": "markdown",
   "metadata": {},
   "source": [
    "# Dataset Review"
   ]
  },
  {
   "cell_type": "markdown",
   "metadata": {},
   "source": [
    "## Book dataset"
   ]
  },
  {
   "cell_type": "code",
   "execution_count": 212,
   "metadata": {},
   "outputs": [
    {
     "data": {
      "text/html": [
       "<div>\n",
       "<style scoped>\n",
       "    .dataframe tbody tr th:only-of-type {\n",
       "        vertical-align: middle;\n",
       "    }\n",
       "\n",
       "    .dataframe tbody tr th {\n",
       "        vertical-align: top;\n",
       "    }\n",
       "\n",
       "    .dataframe thead th {\n",
       "        text-align: right;\n",
       "    }\n",
       "</style>\n",
       "<table border=\"1\" class=\"dataframe\">\n",
       "  <thead>\n",
       "    <tr style=\"text-align: right;\">\n",
       "      <th></th>\n",
       "      <th>ISBN</th>\n",
       "      <th>Book-Title</th>\n",
       "      <th>Book-Author</th>\n",
       "      <th>Year-Of-Publication</th>\n",
       "      <th>Publisher</th>\n",
       "      <th>Image-URL-S</th>\n",
       "      <th>Image-URL-M</th>\n",
       "      <th>Image-URL-L</th>\n",
       "    </tr>\n",
       "  </thead>\n",
       "  <tbody>\n",
       "    <tr>\n",
       "      <th>0</th>\n",
       "      <td>0195153448</td>\n",
       "      <td>Classical Mythology</td>\n",
       "      <td>Mark P. O. Morford</td>\n",
       "      <td>2002</td>\n",
       "      <td>Oxford University Press</td>\n",
       "      <td>http://images.amazon.com/images/P/0195153448.0...</td>\n",
       "      <td>http://images.amazon.com/images/P/0195153448.0...</td>\n",
       "      <td>http://images.amazon.com/images/P/0195153448.0...</td>\n",
       "    </tr>\n",
       "    <tr>\n",
       "      <th>1</th>\n",
       "      <td>0002005018</td>\n",
       "      <td>Clara Callan</td>\n",
       "      <td>Richard Bruce Wright</td>\n",
       "      <td>2001</td>\n",
       "      <td>HarperFlamingo Canada</td>\n",
       "      <td>http://images.amazon.com/images/P/0002005018.0...</td>\n",
       "      <td>http://images.amazon.com/images/P/0002005018.0...</td>\n",
       "      <td>http://images.amazon.com/images/P/0002005018.0...</td>\n",
       "    </tr>\n",
       "    <tr>\n",
       "      <th>2</th>\n",
       "      <td>0060973129</td>\n",
       "      <td>Decision in Normandy</td>\n",
       "      <td>Carlo D'Este</td>\n",
       "      <td>1991</td>\n",
       "      <td>HarperPerennial</td>\n",
       "      <td>http://images.amazon.com/images/P/0060973129.0...</td>\n",
       "      <td>http://images.amazon.com/images/P/0060973129.0...</td>\n",
       "      <td>http://images.amazon.com/images/P/0060973129.0...</td>\n",
       "    </tr>\n",
       "    <tr>\n",
       "      <th>3</th>\n",
       "      <td>0374157065</td>\n",
       "      <td>Flu: The Story of the Great Influenza Pandemic...</td>\n",
       "      <td>Gina Bari Kolata</td>\n",
       "      <td>1999</td>\n",
       "      <td>Farrar Straus Giroux</td>\n",
       "      <td>http://images.amazon.com/images/P/0374157065.0...</td>\n",
       "      <td>http://images.amazon.com/images/P/0374157065.0...</td>\n",
       "      <td>http://images.amazon.com/images/P/0374157065.0...</td>\n",
       "    </tr>\n",
       "    <tr>\n",
       "      <th>4</th>\n",
       "      <td>0393045218</td>\n",
       "      <td>The Mummies of Urumchi</td>\n",
       "      <td>E. J. W. Barber</td>\n",
       "      <td>1999</td>\n",
       "      <td>W. W. Norton &amp;amp; Company</td>\n",
       "      <td>http://images.amazon.com/images/P/0393045218.0...</td>\n",
       "      <td>http://images.amazon.com/images/P/0393045218.0...</td>\n",
       "      <td>http://images.amazon.com/images/P/0393045218.0...</td>\n",
       "    </tr>\n",
       "  </tbody>\n",
       "</table>\n",
       "</div>"
      ],
      "text/plain": [
       "         ISBN                                         Book-Title  \\\n",
       "0  0195153448                                Classical Mythology   \n",
       "1  0002005018                                       Clara Callan   \n",
       "2  0060973129                               Decision in Normandy   \n",
       "3  0374157065  Flu: The Story of the Great Influenza Pandemic...   \n",
       "4  0393045218                             The Mummies of Urumchi   \n",
       "\n",
       "            Book-Author Year-Of-Publication                   Publisher  \\\n",
       "0    Mark P. O. Morford                2002     Oxford University Press   \n",
       "1  Richard Bruce Wright                2001       HarperFlamingo Canada   \n",
       "2          Carlo D'Este                1991             HarperPerennial   \n",
       "3      Gina Bari Kolata                1999        Farrar Straus Giroux   \n",
       "4       E. J. W. Barber                1999  W. W. Norton &amp; Company   \n",
       "\n",
       "                                         Image-URL-S  \\\n",
       "0  http://images.amazon.com/images/P/0195153448.0...   \n",
       "1  http://images.amazon.com/images/P/0002005018.0...   \n",
       "2  http://images.amazon.com/images/P/0060973129.0...   \n",
       "3  http://images.amazon.com/images/P/0374157065.0...   \n",
       "4  http://images.amazon.com/images/P/0393045218.0...   \n",
       "\n",
       "                                         Image-URL-M  \\\n",
       "0  http://images.amazon.com/images/P/0195153448.0...   \n",
       "1  http://images.amazon.com/images/P/0002005018.0...   \n",
       "2  http://images.amazon.com/images/P/0060973129.0...   \n",
       "3  http://images.amazon.com/images/P/0374157065.0...   \n",
       "4  http://images.amazon.com/images/P/0393045218.0...   \n",
       "\n",
       "                                         Image-URL-L  \n",
       "0  http://images.amazon.com/images/P/0195153448.0...  \n",
       "1  http://images.amazon.com/images/P/0002005018.0...  \n",
       "2  http://images.amazon.com/images/P/0060973129.0...  \n",
       "3  http://images.amazon.com/images/P/0374157065.0...  \n",
       "4  http://images.amazon.com/images/P/0393045218.0...  "
      ]
     },
     "execution_count": 212,
     "metadata": {},
     "output_type": "execute_result"
    }
   ],
   "source": [
    "books.head()"
   ]
  },
  {
   "cell_type": "code",
   "execution_count": 213,
   "metadata": {},
   "outputs": [
    {
     "name": "stdout",
     "output_type": "stream",
     "text": [
      "<class 'pandas.core.frame.DataFrame'>\n",
      "RangeIndex: 271360 entries, 0 to 271359\n",
      "Data columns (total 8 columns):\n",
      " #   Column               Non-Null Count   Dtype \n",
      "---  ------               --------------   ----- \n",
      " 0   ISBN                 271360 non-null  object\n",
      " 1   Book-Title           271360 non-null  object\n",
      " 2   Book-Author          271359 non-null  object\n",
      " 3   Year-Of-Publication  271360 non-null  object\n",
      " 4   Publisher            271358 non-null  object\n",
      " 5   Image-URL-S          271360 non-null  object\n",
      " 6   Image-URL-M          271360 non-null  object\n",
      " 7   Image-URL-L          271357 non-null  object\n",
      "dtypes: object(8)\n",
      "memory usage: 16.6+ MB\n"
     ]
    }
   ],
   "source": [
    "books.info()"
   ]
  },
  {
   "cell_type": "markdown",
   "metadata": {},
   "source": [
    "Book-Author , Publisher, Image-URL-L has null values but as each ISBN is unique so can not drop na. Hence filling null values with \"Unknown\" for respective columns"
   ]
  },
  {
   "cell_type": "code",
   "execution_count": 214,
   "metadata": {},
   "outputs": [
    {
     "data": {
      "text/plain": [
       "271360"
      ]
     },
     "execution_count": 214,
     "metadata": {},
     "output_type": "execute_result"
    }
   ],
   "source": [
    "len(books[\"ISBN\"].unique())"
   ]
  },
  {
   "cell_type": "code",
   "execution_count": 215,
   "metadata": {},
   "outputs": [],
   "source": [
    "books.fillna(value=\"Unknown\",inplace=True)"
   ]
  },
  {
   "cell_type": "code",
   "execution_count": 216,
   "metadata": {},
   "outputs": [
    {
     "name": "stdout",
     "output_type": "stream",
     "text": [
      "<class 'pandas.core.frame.DataFrame'>\n",
      "RangeIndex: 271360 entries, 0 to 271359\n",
      "Data columns (total 8 columns):\n",
      " #   Column               Non-Null Count   Dtype \n",
      "---  ------               --------------   ----- \n",
      " 0   ISBN                 271360 non-null  object\n",
      " 1   Book-Title           271360 non-null  object\n",
      " 2   Book-Author          271360 non-null  object\n",
      " 3   Year-Of-Publication  271360 non-null  object\n",
      " 4   Publisher            271360 non-null  object\n",
      " 5   Image-URL-S          271360 non-null  object\n",
      " 6   Image-URL-M          271360 non-null  object\n",
      " 7   Image-URL-L          271360 non-null  object\n",
      "dtypes: object(8)\n",
      "memory usage: 16.6+ MB\n"
     ]
    }
   ],
   "source": [
    "books.info()"
   ]
  },
  {
   "cell_type": "code",
   "execution_count": 217,
   "metadata": {},
   "outputs": [
    {
     "data": {
      "text/html": [
       "<div>\n",
       "<style scoped>\n",
       "    .dataframe tbody tr th:only-of-type {\n",
       "        vertical-align: middle;\n",
       "    }\n",
       "\n",
       "    .dataframe tbody tr th {\n",
       "        vertical-align: top;\n",
       "    }\n",
       "\n",
       "    .dataframe thead th {\n",
       "        text-align: right;\n",
       "    }\n",
       "</style>\n",
       "<table border=\"1\" class=\"dataframe\">\n",
       "  <thead>\n",
       "    <tr style=\"text-align: right;\">\n",
       "      <th></th>\n",
       "      <th>ISBN</th>\n",
       "      <th>Book-Title</th>\n",
       "      <th>Book-Author</th>\n",
       "      <th>Year-Of-Publication</th>\n",
       "      <th>Publisher</th>\n",
       "      <th>Image-URL-S</th>\n",
       "      <th>Image-URL-M</th>\n",
       "      <th>Image-URL-L</th>\n",
       "    </tr>\n",
       "  </thead>\n",
       "  <tbody>\n",
       "    <tr>\n",
       "      <th>21723</th>\n",
       "      <td>185326119X</td>\n",
       "      <td>The Jungle Book (Wordsworth Collection)</td>\n",
       "      <td>Rudyard Kipling</td>\n",
       "      <td>1998</td>\n",
       "      <td>NTC/Contemporary Publishing Company</td>\n",
       "      <td>http://images.amazon.com/images/P/185326119X.0...</td>\n",
       "      <td>http://images.amazon.com/images/P/185326119X.0...</td>\n",
       "      <td>http://images.amazon.com/images/P/185326119X.0...</td>\n",
       "    </tr>\n",
       "    <tr>\n",
       "      <th>116461</th>\n",
       "      <td>185326119x</td>\n",
       "      <td>The Jungle Book (Wordsworth Collection)</td>\n",
       "      <td>Rudyard Kipling</td>\n",
       "      <td>1998</td>\n",
       "      <td>NTC/Contemporary Publishing Company</td>\n",
       "      <td>http://images.amazon.com/images/P/185326119X.0...</td>\n",
       "      <td>http://images.amazon.com/images/P/185326119X.0...</td>\n",
       "      <td>http://images.amazon.com/images/P/185326119X.0...</td>\n",
       "    </tr>\n",
       "  </tbody>\n",
       "</table>\n",
       "</div>"
      ],
      "text/plain": [
       "              ISBN                               Book-Title      Book-Author  \\\n",
       "21723   185326119X  The Jungle Book (Wordsworth Collection)  Rudyard Kipling   \n",
       "116461  185326119x  The Jungle Book (Wordsworth Collection)  Rudyard Kipling   \n",
       "\n",
       "       Year-Of-Publication                            Publisher  \\\n",
       "21723                 1998  NTC/Contemporary Publishing Company   \n",
       "116461                1998  NTC/Contemporary Publishing Company   \n",
       "\n",
       "                                              Image-URL-S  \\\n",
       "21723   http://images.amazon.com/images/P/185326119X.0...   \n",
       "116461  http://images.amazon.com/images/P/185326119X.0...   \n",
       "\n",
       "                                              Image-URL-M  \\\n",
       "21723   http://images.amazon.com/images/P/185326119X.0...   \n",
       "116461  http://images.amazon.com/images/P/185326119X.0...   \n",
       "\n",
       "                                              Image-URL-L  \n",
       "21723   http://images.amazon.com/images/P/185326119X.0...  \n",
       "116461  http://images.amazon.com/images/P/185326119X.0...  "
      ]
     },
     "execution_count": 217,
     "metadata": {},
     "output_type": "execute_result"
    }
   ],
   "source": [
    "books[books[\"Image-URL-S\"]==\"http://images.amazon.com/images/P/185326119X.01.THUMBZZZ.jpg\"]"
   ]
  },
  {
   "cell_type": "code",
   "execution_count": 218,
   "metadata": {},
   "outputs": [
    {
     "data": {
      "text/html": [
       "<div>\n",
       "<style scoped>\n",
       "    .dataframe tbody tr th:only-of-type {\n",
       "        vertical-align: middle;\n",
       "    }\n",
       "\n",
       "    .dataframe tbody tr th {\n",
       "        vertical-align: top;\n",
       "    }\n",
       "\n",
       "    .dataframe thead th {\n",
       "        text-align: right;\n",
       "    }\n",
       "</style>\n",
       "<table border=\"1\" class=\"dataframe\">\n",
       "  <thead>\n",
       "    <tr style=\"text-align: right;\">\n",
       "      <th></th>\n",
       "      <th>ISBN</th>\n",
       "      <th>Book-Title</th>\n",
       "      <th>Book-Author</th>\n",
       "      <th>Year-Of-Publication</th>\n",
       "      <th>Publisher</th>\n",
       "      <th>Image-URL-S</th>\n",
       "      <th>Image-URL-M</th>\n",
       "      <th>Image-URL-L</th>\n",
       "    </tr>\n",
       "  </thead>\n",
       "  <tbody>\n",
       "    <tr>\n",
       "      <th>3591</th>\n",
       "      <td>006099486X</td>\n",
       "      <td>The Professor and the Madman: A Tale of Murder...</td>\n",
       "      <td>Simon Winchester</td>\n",
       "      <td>1999</td>\n",
       "      <td>Perennial</td>\n",
       "      <td>http://images.amazon.com/images/P/006099486X.0...</td>\n",
       "      <td>http://images.amazon.com/images/P/006099486X.0...</td>\n",
       "      <td>http://images.amazon.com/images/P/006099486X.0...</td>\n",
       "    </tr>\n",
       "    <tr>\n",
       "      <th>168738</th>\n",
       "      <td>006099486x</td>\n",
       "      <td>The Professor and the Madman: A Tale of Murder...</td>\n",
       "      <td>Simon Winchester</td>\n",
       "      <td>1999</td>\n",
       "      <td>Perennial</td>\n",
       "      <td>http://images.amazon.com/images/P/006099486X.0...</td>\n",
       "      <td>http://images.amazon.com/images/P/006099486X.0...</td>\n",
       "      <td>http://images.amazon.com/images/P/006099486X.0...</td>\n",
       "    </tr>\n",
       "  </tbody>\n",
       "</table>\n",
       "</div>"
      ],
      "text/plain": [
       "              ISBN                                         Book-Title  \\\n",
       "3591    006099486X  The Professor and the Madman: A Tale of Murder...   \n",
       "168738  006099486x  The Professor and the Madman: A Tale of Murder...   \n",
       "\n",
       "             Book-Author Year-Of-Publication  Publisher  \\\n",
       "3591    Simon Winchester                1999  Perennial   \n",
       "168738  Simon Winchester                1999  Perennial   \n",
       "\n",
       "                                              Image-URL-S  \\\n",
       "3591    http://images.amazon.com/images/P/006099486X.0...   \n",
       "168738  http://images.amazon.com/images/P/006099486X.0...   \n",
       "\n",
       "                                              Image-URL-M  \\\n",
       "3591    http://images.amazon.com/images/P/006099486X.0...   \n",
       "168738  http://images.amazon.com/images/P/006099486X.0...   \n",
       "\n",
       "                                              Image-URL-L  \n",
       "3591    http://images.amazon.com/images/P/006099486X.0...  \n",
       "168738  http://images.amazon.com/images/P/006099486X.0...  "
      ]
     },
     "execution_count": 218,
     "metadata": {},
     "output_type": "execute_result"
    }
   ],
   "source": [
    "\n",
    "books[books[\"Image-URL-S\"]==\"http://images.amazon.com/images/P/006099486X.01.THUMBZZZ.jpg\"]"
   ]
  },
  {
   "cell_type": "code",
   "execution_count": 219,
   "metadata": {},
   "outputs": [
    {
     "data": {
      "text/plain": [
       "http://images.amazon.com/images/P/185326119X.01.THUMBZZZ.jpg    2\n",
       "http://images.amazon.com/images/P/006099486X.01.THUMBZZZ.jpg    2\n",
       "http://images.amazon.com/images/P/044991089X.01.THUMBZZZ.jpg    2\n",
       "http://images.amazon.com/images/P/086611873X.01.THUMBZZZ.jpg    2\n",
       "http://images.amazon.com/images/P/039552105X.01.THUMBZZZ.jpg    2\n",
       "                                                               ..\n",
       "http://images.amazon.com/images/P/1860461050.01.THUMBZZZ.jpg    1\n",
       "http://images.amazon.com/images/P/0553213067.01.THUMBZZZ.jpg    1\n",
       "http://images.amazon.com/images/P/156971634X.01.THUMBZZZ.jpg    1\n",
       "http://images.amazon.com/images/P/349223674X.01.THUMBZZZ.jpg    1\n",
       "http://images.amazon.com/images/P/0767409752.01.THUMBZZZ.jpg    1\n",
       "Name: Image-URL-S, Length: 271044, dtype: int64"
      ]
     },
     "execution_count": 219,
     "metadata": {},
     "output_type": "execute_result"
    }
   ],
   "source": [
    "books['Image-URL-S'].value_counts()"
   ]
  },
  {
   "cell_type": "code",
   "execution_count": 220,
   "metadata": {},
   "outputs": [
    {
     "data": {
      "text/plain": [
       "Unknown                                                         3\n",
       "http://images.amazon.com/images/P/226401654X.01.LZZZZZZZ.jpg    2\n",
       "http://images.amazon.com/images/P/140003065X.01.LZZZZZZZ.jpg    2\n",
       "http://images.amazon.com/images/P/014062063X.01.LZZZZZZZ.jpg    2\n",
       "http://images.amazon.com/images/P/039552105X.01.LZZZZZZZ.jpg    2\n",
       "                                                               ..\n",
       "http://images.amazon.com/images/P/1860461050.01.LZZZZZZZ.jpg    1\n",
       "http://images.amazon.com/images/P/0553213067.01.LZZZZZZZ.jpg    1\n",
       "http://images.amazon.com/images/P/156971634X.01.LZZZZZZZ.jpg    1\n",
       "http://images.amazon.com/images/P/349223674X.01.LZZZZZZZ.jpg    1\n",
       "http://images.amazon.com/images/P/0767409752.01.LZZZZZZZ.jpg    1\n",
       "Name: Image-URL-L, Length: 271042, dtype: int64"
      ]
     },
     "execution_count": 220,
     "metadata": {},
     "output_type": "execute_result"
    }
   ],
   "source": [
    "books['Image-URL-L'].value_counts()"
   ]
  },
  {
   "cell_type": "markdown",
   "metadata": {},
   "source": [
    "It is found that few ISBN has duplicate values wherein difference is only in last character one is in small and other is in caps to remove duplicate Uppercasing all ISBN"
   ]
  },
  {
   "cell_type": "code",
   "execution_count": 221,
   "metadata": {},
   "outputs": [],
   "source": [
    "upper_isbn= lambda x: x.upper()"
   ]
  },
  {
   "cell_type": "code",
   "execution_count": 222,
   "metadata": {},
   "outputs": [],
   "source": [
    "trim_isbn=lambda x: x.strip()"
   ]
  },
  {
   "cell_type": "code",
   "execution_count": 223,
   "metadata": {},
   "outputs": [],
   "source": [
    "books['ISBN']=books['ISBN'].astype('str')"
   ]
  },
  {
   "cell_type": "code",
   "execution_count": 224,
   "metadata": {},
   "outputs": [],
   "source": [
    "# Trimming ISBN values\n",
    "books[\"ISBN\"]=books.ISBN.apply(trim_isbn)"
   ]
  },
  {
   "cell_type": "code",
   "execution_count": 225,
   "metadata": {},
   "outputs": [],
   "source": [
    "#uppercasing ISBN values\n",
    "books[\"ISBN\"]=books.ISBN.apply(upper_isbn)"
   ]
  },
  {
   "cell_type": "code",
   "execution_count": 226,
   "metadata": {},
   "outputs": [
    {
     "data": {
      "text/plain": [
       "ISBN        Book-Title                                                                   Book-Author           Year-Of-Publication  Publisher                Image-URL-S                                                   Image-URL-M                                                   Image-URL-L                                                 \n",
       "039543095X  Cultural Literacy: What Every American Needs to Know                         E. D. Hirsch Jr.      1987                 Houghton Mifflin         http://images.amazon.com/images/P/039543095X.01.THUMBZZZ.jpg  http://images.amazon.com/images/P/039543095X.01.MZZZZZZZ.jpg  http://images.amazon.com/images/P/039543095X.01.LZZZZZZZ.jpg    2\n",
       "044056428X  Nice Guys Sleep Alone: Dating in the Difficult Eighties                      Bruce Feirstein       1986                 Dell Publishing Company  http://images.amazon.com/images/P/044056428X.01.THUMBZZZ.jpg  http://images.amazon.com/images/P/044056428X.01.MZZZZZZZ.jpg  http://images.amazon.com/images/P/044056428X.01.LZZZZZZZ.jpg    2\n",
       "055334949X  Even Cowgirls Get the Blues                                                  Tom Robbins           1990                 Bantam                   http://images.amazon.com/images/P/055334949X.01.THUMBZZZ.jpg  http://images.amazon.com/images/P/055334949X.01.MZZZZZZZ.jpg  http://images.amazon.com/images/P/055334949X.01.LZZZZZZZ.jpg    2\n",
       "042507448X  Gods of Riverworld 5 (Riverworld Saga)                                       Philip Jose Farmer    1985                 Penguin Putnam~mass      http://images.amazon.com/images/P/042507448X.01.THUMBZZZ.jpg  http://images.amazon.com/images/P/042507448X.01.MZZZZZZZ.jpg  http://images.amazon.com/images/P/042507448X.01.LZZZZZZZ.jpg    2\n",
       "156205791X  Networking with Microsoft TCP/IP Certified Administrator's Resource Edition  Drew Heywood          1997                 New Riders Publishing    http://images.amazon.com/images/P/156205791X.01.THUMBZZZ.jpg  http://images.amazon.com/images/P/156205791X.01.MZZZZZZZ.jpg  http://images.amazon.com/images/P/156205791X.01.LZZZZZZZ.jpg    2\n",
       "                                                                                                                                                                                                                                                                                                                                                        ..\n",
       "0441644511  The Outlaws of Sherwood                                                      Robin McKinley        1989                 Ace Books                http://images.amazon.com/images/P/0441644511.01.THUMBZZZ.jpg  http://images.amazon.com/images/P/0441644511.01.MZZZZZZZ.jpg  http://images.amazon.com/images/P/0441644511.01.LZZZZZZZ.jpg    1\n",
       "0441644651  Out of Phaze (Apprentice Adept (Paperback))                                  Piers Anthony         1994                 Ace Books                http://images.amazon.com/images/P/0441644651.01.THUMBZZZ.jpg  http://images.amazon.com/images/P/0441644651.01.MZZZZZZZ.jpg  http://images.amazon.com/images/P/0441644651.01.LZZZZZZZ.jpg    1\n",
       "0441644856  Out of the Times Abyss                                                       Edgar Rice Burroughs  1982                 Ace Books                http://images.amazon.com/images/P/0441644856.01.THUMBZZZ.jpg  http://images.amazon.com/images/P/0441644856.01.MZZZZZZZ.jpg  http://images.amazon.com/images/P/0441644856.01.LZZZZZZZ.jpg    1\n",
       "0441645712  The Oxygen Barons (Ace Science Fiction, No 12)                               Gregory Feeley        1990                 Ace Books                http://images.amazon.com/images/P/0441645712.01.THUMBZZZ.jpg  http://images.amazon.com/images/P/0441645712.01.MZZZZZZZ.jpg  http://images.amazon.com/images/P/0441645712.01.LZZZZZZZ.jpg    1\n",
       "B0002K6K8O  The Underground City                                                         Jules Verne           0                    Digireads.com            http://images.amazon.com/images/P/B0002K6K8O.01.THUMBZZZ.jpg  http://images.amazon.com/images/P/B0002K6K8O.01.MZZZZZZZ.jpg  http://images.amazon.com/images/P/B0002K6K8O.01.LZZZZZZZ.jpg    1\n",
       "Length: 271046, dtype: int64"
      ]
     },
     "execution_count": 226,
     "metadata": {},
     "output_type": "execute_result"
    }
   ],
   "source": [
    "books.value_counts()"
   ]
  },
  {
   "cell_type": "code",
   "execution_count": 227,
   "metadata": {},
   "outputs": [],
   "source": [
    "## Removing duplicate entries\n",
    "books.drop_duplicates(inplace=True)"
   ]
  },
  {
   "cell_type": "code",
   "execution_count": 228,
   "metadata": {},
   "outputs": [
    {
     "data": {
      "text/plain": [
       "ISBN        Book-Title                                                      Book-Author                    Year-Of-Publication  Publisher             Image-URL-S                                                   Image-URL-M                                                   Image-URL-L                                                 \n",
       "0000913154  The Way Things Work: An Illustrated Encyclopedia of Technology  C. van Amerongen (translator)  1967                 Simon &amp; Schuster  http://images.amazon.com/images/P/0000913154.01.THUMBZZZ.jpg  http://images.amazon.com/images/P/0000913154.01.MZZZZZZZ.jpg  http://images.amazon.com/images/P/0000913154.01.LZZZZZZZ.jpg    1\n",
       "0812517008  Ripper                                                          Gardner Dozois                 1988                 Tor Books             http://images.amazon.com/images/P/0812517008.01.THUMBZZZ.jpg  http://images.amazon.com/images/P/0812517008.01.MZZZZZZZ.jpg  http://images.amazon.com/images/P/0812517008.01.LZZZZZZZ.jpg    1\n",
       "0812516648  The Nameless: Ramsey Campbell                                   Ramsey Campbell                1987                 Tor Books             http://images.amazon.com/images/P/0812516648.01.THUMBZZZ.jpg  http://images.amazon.com/images/P/0812516648.01.MZZZZZZZ.jpg  http://images.amazon.com/images/P/0812516648.01.LZZZZZZZ.jpg    1\n",
       "0812516680  The Parasite                                                    J. Ramsey Campbell             1989                 Tor Books (Mm)        http://images.amazon.com/images/P/0812516680.01.THUMBZZZ.jpg  http://images.amazon.com/images/P/0812516680.01.MZZZZZZZ.jpg  http://images.amazon.com/images/P/0812516680.01.LZZZZZZZ.jpg    1\n",
       "0812516702  Fine Frights                                                    Ramsey Campbell                1988                 Tor Books             http://images.amazon.com/images/P/0812516702.01.THUMBZZZ.jpg  http://images.amazon.com/images/P/0812516702.01.MZZZZZZZ.jpg  http://images.amazon.com/images/P/0812516702.01.LZZZZZZZ.jpg    1\n",
       "                                                                                                                                                                                                                                                                                                                                                 ..\n",
       "0441533809  Mirror Friend/Foe                                               Robert Asprin                  1985                 Ace Books             http://images.amazon.com/images/P/0441533809.01.THUMBZZZ.jpg  http://images.amazon.com/images/P/0441533809.01.MZZZZZZZ.jpg  http://images.amazon.com/images/P/0441533809.01.LZZZZZZZ.jpg    1\n",
       "0441533825  Mirrorshades: The Cyberpunk Anthology                           Bruce Sterling                 1988                 Ace Books             http://images.amazon.com/images/P/0441533825.01.THUMBZZZ.jpg  http://images.amazon.com/images/P/0441533825.01.MZZZZZZZ.jpg  http://images.amazon.com/images/P/0441533825.01.LZZZZZZZ.jpg    1\n",
       "0441535038  The Mists of Doom                                               Robert E. Howard               1982                 Ace Books             http://images.amazon.com/images/P/0441535038.01.THUMBZZZ.jpg  http://images.amazon.com/images/P/0441535038.01.MZZZZZZZ.jpg  http://images.amazon.com/images/P/0441535038.01.LZZZZZZZ.jpg    1\n",
       "0441535046  The Mists of Doom (Cormac Mac Art Series, No 1)                 Andrew J. Offutt               1984                 Ace Books             http://images.amazon.com/images/P/0441535046.01.THUMBZZZ.jpg  http://images.amazon.com/images/P/0441535046.01.MZZZZZZZ.jpg  http://images.amazon.com/images/P/0441535046.01.LZZZZZZZ.jpg    1\n",
       "B0002K6K8O  The Underground City                                            Jules Verne                    0                    Digireads.com         http://images.amazon.com/images/P/B0002K6K8O.01.THUMBZZZ.jpg  http://images.amazon.com/images/P/B0002K6K8O.01.MZZZZZZZ.jpg  http://images.amazon.com/images/P/B0002K6K8O.01.LZZZZZZZ.jpg    1\n",
       "Length: 271046, dtype: int64"
      ]
     },
     "execution_count": 228,
     "metadata": {},
     "output_type": "execute_result"
    }
   ],
   "source": [
    "books.value_counts()"
   ]
  },
  {
   "cell_type": "code",
   "execution_count": 229,
   "metadata": {},
   "outputs": [
    {
     "data": {
      "text/plain": [
       "http://images.amazon.com/images/P/051513628X.01.THUMBZZZ.jpg    2\n",
       "http://images.amazon.com/images/P/0385722206.01.THUMBZZZ.jpg    2\n",
       "http://images.amazon.com/images/P/0195153448.01.THUMBZZZ.jpg    1\n",
       "http://images.amazon.com/images/P/1588454959.01.THUMBZZZ.jpg    1\n",
       "http://images.amazon.com/images/P/0882732862.01.THUMBZZZ.jpg    1\n",
       "                                                               ..\n",
       "http://images.amazon.com/images/P/0871236583.01.THUMBZZZ.jpg    1\n",
       "http://images.amazon.com/images/P/0440225914.01.THUMBZZZ.jpg    1\n",
       "http://images.amazon.com/images/P/8423309835.01.THUMBZZZ.jpg    1\n",
       "http://images.amazon.com/images/P/342378170X.01.THUMBZZZ.jpg    1\n",
       "http://images.amazon.com/images/P/0767409752.01.THUMBZZZ.jpg    1\n",
       "Name: Image-URL-S, Length: 271044, dtype: int64"
      ]
     },
     "execution_count": 229,
     "metadata": {},
     "output_type": "execute_result"
    }
   ],
   "source": [
    "books['Image-URL-S'].value_counts()"
   ]
  },
  {
   "cell_type": "code",
   "execution_count": 230,
   "metadata": {},
   "outputs": [
    {
     "data": {
      "text/html": [
       "<div>\n",
       "<style scoped>\n",
       "    .dataframe tbody tr th:only-of-type {\n",
       "        vertical-align: middle;\n",
       "    }\n",
       "\n",
       "    .dataframe tbody tr th {\n",
       "        vertical-align: top;\n",
       "    }\n",
       "\n",
       "    .dataframe thead th {\n",
       "        text-align: right;\n",
       "    }\n",
       "</style>\n",
       "<table border=\"1\" class=\"dataframe\">\n",
       "  <thead>\n",
       "    <tr style=\"text-align: right;\">\n",
       "      <th></th>\n",
       "      <th>ISBN</th>\n",
       "      <th>Book-Title</th>\n",
       "      <th>Book-Author</th>\n",
       "      <th>Year-Of-Publication</th>\n",
       "      <th>Publisher</th>\n",
       "      <th>Image-URL-S</th>\n",
       "      <th>Image-URL-M</th>\n",
       "      <th>Image-URL-L</th>\n",
       "    </tr>\n",
       "  </thead>\n",
       "  <tbody>\n",
       "    <tr>\n",
       "      <th>16202</th>\n",
       "      <td>051513628X</td>\n",
       "      <td>Key of Light (Key Trilogy (Paperback))</td>\n",
       "      <td>Nora Roberts</td>\n",
       "      <td>2003</td>\n",
       "      <td>Jove Books</td>\n",
       "      <td>http://images.amazon.com/images/P/051513628X.0...</td>\n",
       "      <td>http://images.amazon.com/images/P/051513628X.0...</td>\n",
       "      <td>http://images.amazon.com/images/P/051513628X.0...</td>\n",
       "    </tr>\n",
       "    <tr>\n",
       "      <th>213834</th>\n",
       "      <td>051513628X</td>\n",
       "      <td>Key of Light</td>\n",
       "      <td>Nora Roberts</td>\n",
       "      <td>2003</td>\n",
       "      <td>Jove Books</td>\n",
       "      <td>http://images.amazon.com/images/P/051513628X.0...</td>\n",
       "      <td>http://images.amazon.com/images/P/051513628X.0...</td>\n",
       "      <td>http://images.amazon.com/images/P/051513628X.0...</td>\n",
       "    </tr>\n",
       "  </tbody>\n",
       "</table>\n",
       "</div>"
      ],
      "text/plain": [
       "              ISBN                              Book-Title   Book-Author  \\\n",
       "16202   051513628X  Key of Light (Key Trilogy (Paperback))  Nora Roberts   \n",
       "213834  051513628X                            Key of Light  Nora Roberts   \n",
       "\n",
       "       Year-Of-Publication   Publisher  \\\n",
       "16202                 2003  Jove Books   \n",
       "213834                2003  Jove Books   \n",
       "\n",
       "                                              Image-URL-S  \\\n",
       "16202   http://images.amazon.com/images/P/051513628X.0...   \n",
       "213834  http://images.amazon.com/images/P/051513628X.0...   \n",
       "\n",
       "                                              Image-URL-M  \\\n",
       "16202   http://images.amazon.com/images/P/051513628X.0...   \n",
       "213834  http://images.amazon.com/images/P/051513628X.0...   \n",
       "\n",
       "                                              Image-URL-L  \n",
       "16202   http://images.amazon.com/images/P/051513628X.0...  \n",
       "213834  http://images.amazon.com/images/P/051513628X.0...  "
      ]
     },
     "execution_count": 230,
     "metadata": {},
     "output_type": "execute_result"
    }
   ],
   "source": [
    "books[books['ISBN']=='051513628X']"
   ]
  },
  {
   "cell_type": "code",
   "execution_count": 231,
   "metadata": {},
   "outputs": [],
   "source": [
    "# Few ISBN still repeating as Book title is slightly different hence dropping duplicate values\n",
    "books.drop(labels=16202, inplace=True)"
   ]
  },
  {
   "cell_type": "code",
   "execution_count": 232,
   "metadata": {},
   "outputs": [
    {
     "data": {
      "text/html": [
       "<div>\n",
       "<style scoped>\n",
       "    .dataframe tbody tr th:only-of-type {\n",
       "        vertical-align: middle;\n",
       "    }\n",
       "\n",
       "    .dataframe tbody tr th {\n",
       "        vertical-align: top;\n",
       "    }\n",
       "\n",
       "    .dataframe thead th {\n",
       "        text-align: right;\n",
       "    }\n",
       "</style>\n",
       "<table border=\"1\" class=\"dataframe\">\n",
       "  <thead>\n",
       "    <tr style=\"text-align: right;\">\n",
       "      <th></th>\n",
       "      <th>ISBN</th>\n",
       "      <th>Book-Title</th>\n",
       "      <th>Book-Author</th>\n",
       "      <th>Year-Of-Publication</th>\n",
       "      <th>Publisher</th>\n",
       "      <th>Image-URL-S</th>\n",
       "      <th>Image-URL-M</th>\n",
       "      <th>Image-URL-L</th>\n",
       "    </tr>\n",
       "  </thead>\n",
       "  <tbody>\n",
       "    <tr>\n",
       "      <th>213834</th>\n",
       "      <td>051513628X</td>\n",
       "      <td>Key of Light</td>\n",
       "      <td>Nora Roberts</td>\n",
       "      <td>2003</td>\n",
       "      <td>Jove Books</td>\n",
       "      <td>http://images.amazon.com/images/P/051513628X.0...</td>\n",
       "      <td>http://images.amazon.com/images/P/051513628X.0...</td>\n",
       "      <td>http://images.amazon.com/images/P/051513628X.0...</td>\n",
       "    </tr>\n",
       "  </tbody>\n",
       "</table>\n",
       "</div>"
      ],
      "text/plain": [
       "              ISBN    Book-Title   Book-Author Year-Of-Publication  \\\n",
       "213834  051513628X  Key of Light  Nora Roberts                2003   \n",
       "\n",
       "         Publisher                                        Image-URL-S  \\\n",
       "213834  Jove Books  http://images.amazon.com/images/P/051513628X.0...   \n",
       "\n",
       "                                              Image-URL-M  \\\n",
       "213834  http://images.amazon.com/images/P/051513628X.0...   \n",
       "\n",
       "                                              Image-URL-L  \n",
       "213834  http://images.amazon.com/images/P/051513628X.0...  "
      ]
     },
     "execution_count": 232,
     "metadata": {},
     "output_type": "execute_result"
    }
   ],
   "source": [
    "books[books['ISBN']=='051513628X']"
   ]
  },
  {
   "cell_type": "code",
   "execution_count": 233,
   "metadata": {},
   "outputs": [
    {
     "data": {
      "text/plain": [
       "http://images.amazon.com/images/P/0385722206.01.THUMBZZZ.jpg    2\n",
       "http://images.amazon.com/images/P/0195153448.01.THUMBZZZ.jpg    1\n",
       "http://images.amazon.com/images/P/0439446171.01.THUMBZZZ.jpg    1\n",
       "http://images.amazon.com/images/P/0439334039.01.THUMBZZZ.jpg    1\n",
       "http://images.amazon.com/images/P/0345404939.01.THUMBZZZ.jpg    1\n",
       "                                                               ..\n",
       "http://images.amazon.com/images/P/0871236583.01.THUMBZZZ.jpg    1\n",
       "http://images.amazon.com/images/P/0440225914.01.THUMBZZZ.jpg    1\n",
       "http://images.amazon.com/images/P/8423309835.01.THUMBZZZ.jpg    1\n",
       "http://images.amazon.com/images/P/342378170X.01.THUMBZZZ.jpg    1\n",
       "http://images.amazon.com/images/P/0767409752.01.THUMBZZZ.jpg    1\n",
       "Name: Image-URL-S, Length: 271044, dtype: int64"
      ]
     },
     "execution_count": 233,
     "metadata": {},
     "output_type": "execute_result"
    }
   ],
   "source": [
    "books['Image-URL-S'].value_counts()"
   ]
  },
  {
   "cell_type": "code",
   "execution_count": 234,
   "metadata": {},
   "outputs": [
    {
     "data": {
      "text/plain": [
       "http://images.amazon.com/images/P/0385722206.01.MZZZZZZZ.jpg    2\n",
       "http://images.amazon.com/images/P/0195153448.01.MZZZZZZZ.jpg    1\n",
       "http://images.amazon.com/images/P/0439446171.01.MZZZZZZZ.jpg    1\n",
       "http://images.amazon.com/images/P/0439334039.01.MZZZZZZZ.jpg    1\n",
       "http://images.amazon.com/images/P/0345404939.01.MZZZZZZZ.jpg    1\n",
       "                                                               ..\n",
       "http://images.amazon.com/images/P/0871236583.01.MZZZZZZZ.jpg    1\n",
       "http://images.amazon.com/images/P/0440225914.01.MZZZZZZZ.jpg    1\n",
       "http://images.amazon.com/images/P/8423309835.01.MZZZZZZZ.jpg    1\n",
       "http://images.amazon.com/images/P/342378170X.01.MZZZZZZZ.jpg    1\n",
       "http://images.amazon.com/images/P/0767409752.01.MZZZZZZZ.jpg    1\n",
       "Name: Image-URL-M, Length: 271044, dtype: int64"
      ]
     },
     "execution_count": 234,
     "metadata": {},
     "output_type": "execute_result"
    }
   ],
   "source": [
    "books['Image-URL-M'].value_counts()"
   ]
  },
  {
   "cell_type": "code",
   "execution_count": 235,
   "metadata": {},
   "outputs": [
    {
     "data": {
      "text/html": [
       "<div>\n",
       "<style scoped>\n",
       "    .dataframe tbody tr th:only-of-type {\n",
       "        vertical-align: middle;\n",
       "    }\n",
       "\n",
       "    .dataframe tbody tr th {\n",
       "        vertical-align: top;\n",
       "    }\n",
       "\n",
       "    .dataframe thead th {\n",
       "        text-align: right;\n",
       "    }\n",
       "</style>\n",
       "<table border=\"1\" class=\"dataframe\">\n",
       "  <thead>\n",
       "    <tr style=\"text-align: right;\">\n",
       "      <th></th>\n",
       "      <th>ISBN</th>\n",
       "      <th>Book-Title</th>\n",
       "      <th>Book-Author</th>\n",
       "      <th>Year-Of-Publication</th>\n",
       "      <th>Publisher</th>\n",
       "      <th>Image-URL-S</th>\n",
       "      <th>Image-URL-M</th>\n",
       "      <th>Image-URL-L</th>\n",
       "    </tr>\n",
       "  </thead>\n",
       "  <tbody>\n",
       "  </tbody>\n",
       "</table>\n",
       "</div>"
      ],
      "text/plain": [
       "Empty DataFrame\n",
       "Columns: [ISBN, Book-Title, Book-Author, Year-Of-Publication, Publisher, Image-URL-S, Image-URL-M, Image-URL-L]\n",
       "Index: []"
      ]
     },
     "execution_count": 235,
     "metadata": {},
     "output_type": "execute_result"
    }
   ],
   "source": [
    "books[books['ISBN']=='03857222060']"
   ]
  },
  {
   "cell_type": "code",
   "execution_count": 236,
   "metadata": {},
   "outputs": [
    {
     "data": {
      "text/html": [
       "<div>\n",
       "<style scoped>\n",
       "    .dataframe tbody tr th:only-of-type {\n",
       "        vertical-align: middle;\n",
       "    }\n",
       "\n",
       "    .dataframe tbody tr th {\n",
       "        vertical-align: top;\n",
       "    }\n",
       "\n",
       "    .dataframe thead th {\n",
       "        text-align: right;\n",
       "    }\n",
       "</style>\n",
       "<table border=\"1\" class=\"dataframe\">\n",
       "  <thead>\n",
       "    <tr style=\"text-align: right;\">\n",
       "      <th></th>\n",
       "      <th>ISBN</th>\n",
       "      <th>Book-Title</th>\n",
       "      <th>Book-Author</th>\n",
       "      <th>Year-Of-Publication</th>\n",
       "      <th>Publisher</th>\n",
       "      <th>Image-URL-S</th>\n",
       "      <th>Image-URL-M</th>\n",
       "      <th>Image-URL-L</th>\n",
       "    </tr>\n",
       "  </thead>\n",
       "  <tbody>\n",
       "    <tr>\n",
       "      <th>5248</th>\n",
       "      <td>0385722206</td>\n",
       "      <td>Balzac and the Little Chinese Seamstress : A N...</td>\n",
       "      <td>DAI SIJIE</td>\n",
       "      <td>2002</td>\n",
       "      <td>Anchor</td>\n",
       "      <td>http://images.amazon.com/images/P/0385722206.0...</td>\n",
       "      <td>http://images.amazon.com/images/P/0385722206.0...</td>\n",
       "      <td>http://images.amazon.com/images/P/0385722206.0...</td>\n",
       "    </tr>\n",
       "  </tbody>\n",
       "</table>\n",
       "</div>"
      ],
      "text/plain": [
       "            ISBN                                         Book-Title  \\\n",
       "5248  0385722206  Balzac and the Little Chinese Seamstress : A N...   \n",
       "\n",
       "     Book-Author Year-Of-Publication Publisher  \\\n",
       "5248   DAI SIJIE                2002    Anchor   \n",
       "\n",
       "                                            Image-URL-S  \\\n",
       "5248  http://images.amazon.com/images/P/0385722206.0...   \n",
       "\n",
       "                                            Image-URL-M  \\\n",
       "5248  http://images.amazon.com/images/P/0385722206.0...   \n",
       "\n",
       "                                            Image-URL-L  \n",
       "5248  http://images.amazon.com/images/P/0385722206.0...  "
      ]
     },
     "execution_count": 236,
     "metadata": {},
     "output_type": "execute_result"
    }
   ],
   "source": [
    "books[books['ISBN']=='0385722206']"
   ]
  },
  {
   "cell_type": "code",
   "execution_count": 237,
   "metadata": {},
   "outputs": [
    {
     "data": {
      "text/plain": [
       "http://images.amazon.com/images/P/0385722206.01.MZZZZZZZ.jpg    2\n",
       "http://images.amazon.com/images/P/0195153448.01.MZZZZZZZ.jpg    1\n",
       "http://images.amazon.com/images/P/0439446171.01.MZZZZZZZ.jpg    1\n",
       "http://images.amazon.com/images/P/0439334039.01.MZZZZZZZ.jpg    1\n",
       "http://images.amazon.com/images/P/0345404939.01.MZZZZZZZ.jpg    1\n",
       "                                                               ..\n",
       "http://images.amazon.com/images/P/0871236583.01.MZZZZZZZ.jpg    1\n",
       "http://images.amazon.com/images/P/0440225914.01.MZZZZZZZ.jpg    1\n",
       "http://images.amazon.com/images/P/8423309835.01.MZZZZZZZ.jpg    1\n",
       "http://images.amazon.com/images/P/342378170X.01.MZZZZZZZ.jpg    1\n",
       "http://images.amazon.com/images/P/0767409752.01.MZZZZZZZ.jpg    1\n",
       "Name: Image-URL-M, Length: 271044, dtype: int64"
      ]
     },
     "execution_count": 237,
     "metadata": {},
     "output_type": "execute_result"
    }
   ],
   "source": [
    "books['Image-URL-M'].value_counts()"
   ]
  },
  {
   "cell_type": "code",
   "execution_count": 238,
   "metadata": {},
   "outputs": [
    {
     "data": {
      "text/html": [
       "<div>\n",
       "<style scoped>\n",
       "    .dataframe tbody tr th:only-of-type {\n",
       "        vertical-align: middle;\n",
       "    }\n",
       "\n",
       "    .dataframe tbody tr th {\n",
       "        vertical-align: top;\n",
       "    }\n",
       "\n",
       "    .dataframe thead th {\n",
       "        text-align: right;\n",
       "    }\n",
       "</style>\n",
       "<table border=\"1\" class=\"dataframe\">\n",
       "  <thead>\n",
       "    <tr style=\"text-align: right;\">\n",
       "      <th></th>\n",
       "      <th>ISBN</th>\n",
       "      <th>Book-Title</th>\n",
       "      <th>Book-Author</th>\n",
       "      <th>Year-Of-Publication</th>\n",
       "      <th>Publisher</th>\n",
       "      <th>Image-URL-S</th>\n",
       "      <th>Image-URL-M</th>\n",
       "      <th>Image-URL-L</th>\n",
       "    </tr>\n",
       "  </thead>\n",
       "  <tbody>\n",
       "    <tr>\n",
       "      <th>5248</th>\n",
       "      <td>0385722206</td>\n",
       "      <td>Balzac and the Little Chinese Seamstress : A N...</td>\n",
       "      <td>DAI SIJIE</td>\n",
       "      <td>2002</td>\n",
       "      <td>Anchor</td>\n",
       "      <td>http://images.amazon.com/images/P/0385722206.0...</td>\n",
       "      <td>http://images.amazon.com/images/P/0385722206.0...</td>\n",
       "      <td>http://images.amazon.com/images/P/0385722206.0...</td>\n",
       "    </tr>\n",
       "    <tr>\n",
       "      <th>251649</th>\n",
       "      <td>0385722206  0</td>\n",
       "      <td>Balzac and the Little Chinese Seamstress : A N...</td>\n",
       "      <td>DAI SIJIE</td>\n",
       "      <td>2002</td>\n",
       "      <td>Anchor</td>\n",
       "      <td>http://images.amazon.com/images/P/0385722206.0...</td>\n",
       "      <td>http://images.amazon.com/images/P/0385722206.0...</td>\n",
       "      <td>http://images.amazon.com/images/P/0385722206.0...</td>\n",
       "    </tr>\n",
       "  </tbody>\n",
       "</table>\n",
       "</div>"
      ],
      "text/plain": [
       "                 ISBN                                         Book-Title  \\\n",
       "5248       0385722206  Balzac and the Little Chinese Seamstress : A N...   \n",
       "251649  0385722206  0  Balzac and the Little Chinese Seamstress : A N...   \n",
       "\n",
       "       Book-Author Year-Of-Publication Publisher  \\\n",
       "5248     DAI SIJIE                2002    Anchor   \n",
       "251649   DAI SIJIE                2002    Anchor   \n",
       "\n",
       "                                              Image-URL-S  \\\n",
       "5248    http://images.amazon.com/images/P/0385722206.0...   \n",
       "251649  http://images.amazon.com/images/P/0385722206.0...   \n",
       "\n",
       "                                              Image-URL-M  \\\n",
       "5248    http://images.amazon.com/images/P/0385722206.0...   \n",
       "251649  http://images.amazon.com/images/P/0385722206.0...   \n",
       "\n",
       "                                              Image-URL-L  \n",
       "5248    http://images.amazon.com/images/P/0385722206.0...  \n",
       "251649  http://images.amazon.com/images/P/0385722206.0...  "
      ]
     },
     "execution_count": 238,
     "metadata": {},
     "output_type": "execute_result"
    }
   ],
   "source": [
    "books[books['Image-URL-M']=='http://images.amazon.com/images/P/0385722206.01.MZZZZZZZ.jpg']"
   ]
  },
  {
   "cell_type": "code",
   "execution_count": 239,
   "metadata": {},
   "outputs": [],
   "source": [
    "# Few ISBN still repeating as Book title is slightly different hence dropping duplicate values as shown above found ISBN 0385722206 is Valid ISBN hence dropping 03857222060\n",
    "books.drop(labels=251649, inplace=True)"
   ]
  },
  {
   "cell_type": "code",
   "execution_count": 240,
   "metadata": {},
   "outputs": [
    {
     "data": {
      "text/html": [
       "<div>\n",
       "<style scoped>\n",
       "    .dataframe tbody tr th:only-of-type {\n",
       "        vertical-align: middle;\n",
       "    }\n",
       "\n",
       "    .dataframe tbody tr th {\n",
       "        vertical-align: top;\n",
       "    }\n",
       "\n",
       "    .dataframe thead th {\n",
       "        text-align: right;\n",
       "    }\n",
       "</style>\n",
       "<table border=\"1\" class=\"dataframe\">\n",
       "  <thead>\n",
       "    <tr style=\"text-align: right;\">\n",
       "      <th></th>\n",
       "      <th>ISBN</th>\n",
       "      <th>Book-Title</th>\n",
       "      <th>Book-Author</th>\n",
       "      <th>Year-Of-Publication</th>\n",
       "      <th>Publisher</th>\n",
       "      <th>Image-URL-S</th>\n",
       "      <th>Image-URL-M</th>\n",
       "      <th>Image-URL-L</th>\n",
       "    </tr>\n",
       "  </thead>\n",
       "  <tbody>\n",
       "    <tr>\n",
       "      <th>5248</th>\n",
       "      <td>0385722206</td>\n",
       "      <td>Balzac and the Little Chinese Seamstress : A N...</td>\n",
       "      <td>DAI SIJIE</td>\n",
       "      <td>2002</td>\n",
       "      <td>Anchor</td>\n",
       "      <td>http://images.amazon.com/images/P/0385722206.0...</td>\n",
       "      <td>http://images.amazon.com/images/P/0385722206.0...</td>\n",
       "      <td>http://images.amazon.com/images/P/0385722206.0...</td>\n",
       "    </tr>\n",
       "  </tbody>\n",
       "</table>\n",
       "</div>"
      ],
      "text/plain": [
       "            ISBN                                         Book-Title  \\\n",
       "5248  0385722206  Balzac and the Little Chinese Seamstress : A N...   \n",
       "\n",
       "     Book-Author Year-Of-Publication Publisher  \\\n",
       "5248   DAI SIJIE                2002    Anchor   \n",
       "\n",
       "                                            Image-URL-S  \\\n",
       "5248  http://images.amazon.com/images/P/0385722206.0...   \n",
       "\n",
       "                                            Image-URL-M  \\\n",
       "5248  http://images.amazon.com/images/P/0385722206.0...   \n",
       "\n",
       "                                            Image-URL-L  \n",
       "5248  http://images.amazon.com/images/P/0385722206.0...  "
      ]
     },
     "execution_count": 240,
     "metadata": {},
     "output_type": "execute_result"
    }
   ],
   "source": [
    "books[books['Image-URL-M']=='http://images.amazon.com/images/P/0385722206.01.MZZZZZZZ.jpg']"
   ]
  },
  {
   "cell_type": "code",
   "execution_count": 241,
   "metadata": {},
   "outputs": [
    {
     "data": {
      "text/plain": [
       "http://images.amazon.com/images/P/0195153448.01.MZZZZZZZ.jpg    1\n",
       "http://images.amazon.com/images/P/0609800329.01.MZZZZZZZ.jpg    1\n",
       "http://images.amazon.com/images/P/0811202089.01.MZZZZZZZ.jpg    1\n",
       "http://images.amazon.com/images/P/0802133290.01.MZZZZZZZ.jpg    1\n",
       "http://images.amazon.com/images/P/0439334039.01.MZZZZZZZ.jpg    1\n",
       "                                                               ..\n",
       "http://images.amazon.com/images/P/158648009X.01.MZZZZZZZ.jpg    1\n",
       "http://images.amazon.com/images/P/0871236583.01.MZZZZZZZ.jpg    1\n",
       "http://images.amazon.com/images/P/0440225914.01.MZZZZZZZ.jpg    1\n",
       "http://images.amazon.com/images/P/8423309835.01.MZZZZZZZ.jpg    1\n",
       "http://images.amazon.com/images/P/0767409752.01.MZZZZZZZ.jpg    1\n",
       "Name: Image-URL-M, Length: 271044, dtype: int64"
      ]
     },
     "execution_count": 241,
     "metadata": {},
     "output_type": "execute_result"
    }
   ],
   "source": [
    "books['Image-URL-M'].value_counts()"
   ]
  },
  {
   "cell_type": "code",
   "execution_count": 242,
   "metadata": {},
   "outputs": [
    {
     "data": {
      "text/plain": [
       "(271044, 8)"
      ]
     },
     "execution_count": 242,
     "metadata": {},
     "output_type": "execute_result"
    }
   ],
   "source": [
    "books.shape"
   ]
  },
  {
   "cell_type": "markdown",
   "metadata": {},
   "source": [
    "## Ratings dataset"
   ]
  },
  {
   "cell_type": "code",
   "execution_count": 243,
   "metadata": {},
   "outputs": [
    {
     "data": {
      "text/html": [
       "<div>\n",
       "<style scoped>\n",
       "    .dataframe tbody tr th:only-of-type {\n",
       "        vertical-align: middle;\n",
       "    }\n",
       "\n",
       "    .dataframe tbody tr th {\n",
       "        vertical-align: top;\n",
       "    }\n",
       "\n",
       "    .dataframe thead th {\n",
       "        text-align: right;\n",
       "    }\n",
       "</style>\n",
       "<table border=\"1\" class=\"dataframe\">\n",
       "  <thead>\n",
       "    <tr style=\"text-align: right;\">\n",
       "      <th></th>\n",
       "      <th>User-ID</th>\n",
       "      <th>ISBN</th>\n",
       "      <th>Book-Rating</th>\n",
       "    </tr>\n",
       "  </thead>\n",
       "  <tbody>\n",
       "    <tr>\n",
       "      <th>0</th>\n",
       "      <td>276725</td>\n",
       "      <td>034545104X</td>\n",
       "      <td>0</td>\n",
       "    </tr>\n",
       "    <tr>\n",
       "      <th>1</th>\n",
       "      <td>276726</td>\n",
       "      <td>0155061224</td>\n",
       "      <td>5</td>\n",
       "    </tr>\n",
       "    <tr>\n",
       "      <th>2</th>\n",
       "      <td>276727</td>\n",
       "      <td>0446520802</td>\n",
       "      <td>0</td>\n",
       "    </tr>\n",
       "    <tr>\n",
       "      <th>3</th>\n",
       "      <td>276729</td>\n",
       "      <td>052165615X</td>\n",
       "      <td>3</td>\n",
       "    </tr>\n",
       "    <tr>\n",
       "      <th>4</th>\n",
       "      <td>276729</td>\n",
       "      <td>0521795028</td>\n",
       "      <td>6</td>\n",
       "    </tr>\n",
       "  </tbody>\n",
       "</table>\n",
       "</div>"
      ],
      "text/plain": [
       "   User-ID        ISBN  Book-Rating\n",
       "0   276725  034545104X            0\n",
       "1   276726  0155061224            5\n",
       "2   276727  0446520802            0\n",
       "3   276729  052165615X            3\n",
       "4   276729  0521795028            6"
      ]
     },
     "execution_count": 243,
     "metadata": {},
     "output_type": "execute_result"
    }
   ],
   "source": [
    "ratings.head()"
   ]
  },
  {
   "cell_type": "code",
   "execution_count": 244,
   "metadata": {},
   "outputs": [
    {
     "name": "stdout",
     "output_type": "stream",
     "text": [
      "<class 'pandas.core.frame.DataFrame'>\n",
      "RangeIndex: 1149780 entries, 0 to 1149779\n",
      "Data columns (total 3 columns):\n",
      " #   Column       Non-Null Count    Dtype \n",
      "---  ------       --------------    ----- \n",
      " 0   User-ID      1149780 non-null  int64 \n",
      " 1   ISBN         1149780 non-null  object\n",
      " 2   Book-Rating  1149780 non-null  int64 \n",
      "dtypes: int64(2), object(1)\n",
      "memory usage: 26.3+ MB\n"
     ]
    }
   ],
   "source": [
    "ratings.info()"
   ]
  },
  {
   "cell_type": "code",
   "execution_count": 245,
   "metadata": {},
   "outputs": [],
   "source": [
    "ratings[\"ISBN\"]=ratings['ISBN'].apply(upper_isbn)\n",
    "ratings['ISBN']=ratings['ISBN'].apply(trim_isbn)"
   ]
  },
  {
   "cell_type": "code",
   "execution_count": 246,
   "metadata": {},
   "outputs": [
    {
     "data": {
      "text/html": [
       "<div>\n",
       "<style scoped>\n",
       "    .dataframe tbody tr th:only-of-type {\n",
       "        vertical-align: middle;\n",
       "    }\n",
       "\n",
       "    .dataframe tbody tr th {\n",
       "        vertical-align: top;\n",
       "    }\n",
       "\n",
       "    .dataframe thead th {\n",
       "        text-align: right;\n",
       "    }\n",
       "</style>\n",
       "<table border=\"1\" class=\"dataframe\">\n",
       "  <thead>\n",
       "    <tr style=\"text-align: right;\">\n",
       "      <th></th>\n",
       "      <th>User-ID</th>\n",
       "      <th>ISBN</th>\n",
       "      <th>Book-Rating</th>\n",
       "    </tr>\n",
       "  </thead>\n",
       "  <tbody>\n",
       "    <tr>\n",
       "      <th>9561</th>\n",
       "      <td>2</td>\n",
       "      <td>0195153448</td>\n",
       "      <td>0</td>\n",
       "    </tr>\n",
       "  </tbody>\n",
       "</table>\n",
       "</div>"
      ],
      "text/plain": [
       "      User-ID        ISBN  Book-Rating\n",
       "9561        2  0195153448            0"
      ]
     },
     "execution_count": 246,
     "metadata": {},
     "output_type": "execute_result"
    }
   ],
   "source": [
    "ratings[ratings[\"User-ID\"]==2]"
   ]
  },
  {
   "cell_type": "code",
   "execution_count": 247,
   "metadata": {},
   "outputs": [
    {
     "data": {
      "text/plain": [
       "11676     13602\n",
       "198711     7550\n",
       "153662     6109\n",
       "98391      5891\n",
       "35859      5850\n",
       "          ...  \n",
       "116180        1\n",
       "116166        1\n",
       "116154        1\n",
       "116137        1\n",
       "276723        1\n",
       "Name: User-ID, Length: 105283, dtype: int64"
      ]
     },
     "execution_count": 247,
     "metadata": {},
     "output_type": "execute_result"
    }
   ],
   "source": [
    "ratings[\"User-ID\"].value_counts()"
   ]
  },
  {
   "cell_type": "code",
   "execution_count": 248,
   "metadata": {},
   "outputs": [
    {
     "data": {
      "text/plain": [
       "340215"
      ]
     },
     "execution_count": 248,
     "metadata": {},
     "output_type": "execute_result"
    }
   ],
   "source": [
    "len(ratings[\"ISBN\"].unique())"
   ]
  },
  {
   "cell_type": "code",
   "execution_count": 249,
   "metadata": {},
   "outputs": [],
   "source": [
    "import re"
   ]
  },
  {
   "cell_type": "code",
   "execution_count": 250,
   "metadata": {},
   "outputs": [],
   "source": [
    "def remove_special_characters_and_extra_spaces(text):\n",
    "    # Define a regular expression pattern to match symbols/special characters and extra white spaces\n",
    "    pattern = r'[^a-zA-Z0-9\\s]+|(?<=\\s)\\s+|\\s+(?=\\s )'\n",
    "\n",
    "    # Use re.sub() to replace all matches with a single space\n",
    "    cleaned_text = re.sub(pattern, '', text)\n",
    "\n",
    "    # Remove leading and trailing spaces\n",
    "    cleaned_text = cleaned_text.strip()\n",
    "    pattern = r'\\s+'\n",
    "    cleaned_text = re.sub(pattern, '', cleaned_text)\n",
    "\n",
    "    return cleaned_text"
   ]
  },
  {
   "cell_type": "code",
   "execution_count": 251,
   "metadata": {},
   "outputs": [
    {
     "data": {
      "text/plain": [
       "(1149780, 3)"
      ]
     },
     "execution_count": 251,
     "metadata": {},
     "output_type": "execute_result"
    }
   ],
   "source": [
    "ratings.shape"
   ]
  },
  {
   "cell_type": "code",
   "execution_count": 252,
   "metadata": {},
   "outputs": [],
   "source": [
    "def count_values(data, column, new_column):\n",
    "    value_counts = data[column].value_counts()\n",
    "    value_counts=value_counts.reset_index(name=new_column).rename(columns={'index':column})\n",
    "    return value_counts"
   ]
  },
  {
   "cell_type": "code",
   "execution_count": 253,
   "metadata": {},
   "outputs": [
    {
     "data": {
      "text/html": [
       "<div>\n",
       "<style scoped>\n",
       "    .dataframe tbody tr th:only-of-type {\n",
       "        vertical-align: middle;\n",
       "    }\n",
       "\n",
       "    .dataframe tbody tr th {\n",
       "        vertical-align: top;\n",
       "    }\n",
       "\n",
       "    .dataframe thead th {\n",
       "        text-align: right;\n",
       "    }\n",
       "</style>\n",
       "<table border=\"1\" class=\"dataframe\">\n",
       "  <thead>\n",
       "    <tr style=\"text-align: right;\">\n",
       "      <th></th>\n",
       "      <th>User-ID</th>\n",
       "      <th>Ratings_counts</th>\n",
       "    </tr>\n",
       "  </thead>\n",
       "  <tbody>\n",
       "    <tr>\n",
       "      <th>0</th>\n",
       "      <td>11676</td>\n",
       "      <td>13602</td>\n",
       "    </tr>\n",
       "    <tr>\n",
       "      <th>1</th>\n",
       "      <td>198711</td>\n",
       "      <td>7550</td>\n",
       "    </tr>\n",
       "    <tr>\n",
       "      <th>2</th>\n",
       "      <td>153662</td>\n",
       "      <td>6109</td>\n",
       "    </tr>\n",
       "    <tr>\n",
       "      <th>3</th>\n",
       "      <td>98391</td>\n",
       "      <td>5891</td>\n",
       "    </tr>\n",
       "    <tr>\n",
       "      <th>4</th>\n",
       "      <td>35859</td>\n",
       "      <td>5850</td>\n",
       "    </tr>\n",
       "    <tr>\n",
       "      <th>...</th>\n",
       "      <td>...</td>\n",
       "      <td>...</td>\n",
       "    </tr>\n",
       "    <tr>\n",
       "      <th>105278</th>\n",
       "      <td>116180</td>\n",
       "      <td>1</td>\n",
       "    </tr>\n",
       "    <tr>\n",
       "      <th>105279</th>\n",
       "      <td>116166</td>\n",
       "      <td>1</td>\n",
       "    </tr>\n",
       "    <tr>\n",
       "      <th>105280</th>\n",
       "      <td>116154</td>\n",
       "      <td>1</td>\n",
       "    </tr>\n",
       "    <tr>\n",
       "      <th>105281</th>\n",
       "      <td>116137</td>\n",
       "      <td>1</td>\n",
       "    </tr>\n",
       "    <tr>\n",
       "      <th>105282</th>\n",
       "      <td>276723</td>\n",
       "      <td>1</td>\n",
       "    </tr>\n",
       "  </tbody>\n",
       "</table>\n",
       "<p>105283 rows × 2 columns</p>\n",
       "</div>"
      ],
      "text/plain": [
       "        User-ID  Ratings_counts\n",
       "0         11676           13602\n",
       "1        198711            7550\n",
       "2        153662            6109\n",
       "3         98391            5891\n",
       "4         35859            5850\n",
       "...         ...             ...\n",
       "105278   116180               1\n",
       "105279   116166               1\n",
       "105280   116154               1\n",
       "105281   116137               1\n",
       "105282   276723               1\n",
       "\n",
       "[105283 rows x 2 columns]"
      ]
     },
     "execution_count": 253,
     "metadata": {},
     "output_type": "execute_result"
    }
   ],
   "source": [
    "value_counts = ratings[\"User-ID\"].value_counts()\n",
    "value_counts=value_counts.reset_index(name=\"Ratings_counts\").rename(columns={'index':'User-ID'})\n",
    "#value_counts.rename(columns={'index':'User-ID'})\n",
    "value_counts"
   ]
  },
  {
   "cell_type": "code",
   "execution_count": 254,
   "metadata": {},
   "outputs": [],
   "source": [
    "ratings_new=ratings.merge(value_counts, on='User-ID')"
   ]
  },
  {
   "cell_type": "code",
   "execution_count": 255,
   "metadata": {},
   "outputs": [
    {
     "data": {
      "text/plain": [
       "(1149780, 4)"
      ]
     },
     "execution_count": 255,
     "metadata": {},
     "output_type": "execute_result"
    }
   ],
   "source": [
    "#ratings_new[ratings_new[\"User-ID\"]]\n",
    "ratings_new.shape"
   ]
  },
  {
   "cell_type": "code",
   "execution_count": 256,
   "metadata": {},
   "outputs": [
    {
     "data": {
      "text/html": [
       "<div>\n",
       "<style scoped>\n",
       "    .dataframe tbody tr th:only-of-type {\n",
       "        vertical-align: middle;\n",
       "    }\n",
       "\n",
       "    .dataframe tbody tr th {\n",
       "        vertical-align: top;\n",
       "    }\n",
       "\n",
       "    .dataframe thead th {\n",
       "        text-align: right;\n",
       "    }\n",
       "</style>\n",
       "<table border=\"1\" class=\"dataframe\">\n",
       "  <thead>\n",
       "    <tr style=\"text-align: right;\">\n",
       "      <th></th>\n",
       "      <th>User-ID</th>\n",
       "      <th>ISBN</th>\n",
       "      <th>Book-Rating</th>\n",
       "      <th>Ratings_counts</th>\n",
       "    </tr>\n",
       "  </thead>\n",
       "  <tbody>\n",
       "    <tr>\n",
       "      <th>1456</th>\n",
       "      <td>277427</td>\n",
       "      <td>002542730X</td>\n",
       "      <td>10</td>\n",
       "      <td>497</td>\n",
       "    </tr>\n",
       "    <tr>\n",
       "      <th>1457</th>\n",
       "      <td>277427</td>\n",
       "      <td>0026217457</td>\n",
       "      <td>0</td>\n",
       "      <td>497</td>\n",
       "    </tr>\n",
       "    <tr>\n",
       "      <th>1458</th>\n",
       "      <td>277427</td>\n",
       "      <td>003008685X</td>\n",
       "      <td>8</td>\n",
       "      <td>497</td>\n",
       "    </tr>\n",
       "    <tr>\n",
       "      <th>1459</th>\n",
       "      <td>277427</td>\n",
       "      <td>0030615321</td>\n",
       "      <td>0</td>\n",
       "      <td>497</td>\n",
       "    </tr>\n",
       "    <tr>\n",
       "      <th>1460</th>\n",
       "      <td>277427</td>\n",
       "      <td>0060002050</td>\n",
       "      <td>0</td>\n",
       "      <td>497</td>\n",
       "    </tr>\n",
       "    <tr>\n",
       "      <th>...</th>\n",
       "      <td>...</td>\n",
       "      <td>...</td>\n",
       "      <td>...</td>\n",
       "      <td>...</td>\n",
       "    </tr>\n",
       "    <tr>\n",
       "      <th>1147612</th>\n",
       "      <td>275970</td>\n",
       "      <td>3829021860</td>\n",
       "      <td>0</td>\n",
       "      <td>1376</td>\n",
       "    </tr>\n",
       "    <tr>\n",
       "      <th>1147613</th>\n",
       "      <td>275970</td>\n",
       "      <td>4770019572</td>\n",
       "      <td>0</td>\n",
       "      <td>1376</td>\n",
       "    </tr>\n",
       "    <tr>\n",
       "      <th>1147614</th>\n",
       "      <td>275970</td>\n",
       "      <td>896086097</td>\n",
       "      <td>0</td>\n",
       "      <td>1376</td>\n",
       "    </tr>\n",
       "    <tr>\n",
       "      <th>1147615</th>\n",
       "      <td>275970</td>\n",
       "      <td>9626340762</td>\n",
       "      <td>8</td>\n",
       "      <td>1376</td>\n",
       "    </tr>\n",
       "    <tr>\n",
       "      <th>1147616</th>\n",
       "      <td>275970</td>\n",
       "      <td>9626344990</td>\n",
       "      <td>0</td>\n",
       "      <td>1376</td>\n",
       "    </tr>\n",
       "  </tbody>\n",
       "</table>\n",
       "<p>527556 rows × 4 columns</p>\n",
       "</div>"
      ],
      "text/plain": [
       "         User-ID        ISBN  Book-Rating  Ratings_counts\n",
       "1456      277427  002542730X           10             497\n",
       "1457      277427  0026217457            0             497\n",
       "1458      277427  003008685X            8             497\n",
       "1459      277427  0030615321            0             497\n",
       "1460      277427  0060002050            0             497\n",
       "...          ...         ...          ...             ...\n",
       "1147612   275970  3829021860            0            1376\n",
       "1147613   275970  4770019572            0            1376\n",
       "1147614   275970   896086097            0            1376\n",
       "1147615   275970  9626340762            8            1376\n",
       "1147616   275970  9626344990            0            1376\n",
       "\n",
       "[527556 rows x 4 columns]"
      ]
     },
     "execution_count": 256,
     "metadata": {},
     "output_type": "execute_result"
    }
   ],
   "source": [
    "ratings_new[ratings_new[\"Ratings_counts\"]>=200]"
   ]
  },
  {
   "cell_type": "code",
   "execution_count": 257,
   "metadata": {},
   "outputs": [
    {
     "data": {
      "text/html": [
       "<div>\n",
       "<style scoped>\n",
       "    .dataframe tbody tr th:only-of-type {\n",
       "        vertical-align: middle;\n",
       "    }\n",
       "\n",
       "    .dataframe tbody tr th {\n",
       "        vertical-align: top;\n",
       "    }\n",
       "\n",
       "    .dataframe thead th {\n",
       "        text-align: right;\n",
       "    }\n",
       "</style>\n",
       "<table border=\"1\" class=\"dataframe\">\n",
       "  <thead>\n",
       "    <tr style=\"text-align: right;\">\n",
       "      <th></th>\n",
       "      <th>User-ID</th>\n",
       "      <th>ISBN</th>\n",
       "      <th>Book-Rating</th>\n",
       "      <th>Ratings_counts</th>\n",
       "    </tr>\n",
       "  </thead>\n",
       "  <tbody>\n",
       "    <tr>\n",
       "      <th>45326</th>\n",
       "      <td>11676</td>\n",
       "      <td>9022906116</td>\n",
       "      <td>7</td>\n",
       "      <td>13602</td>\n",
       "    </tr>\n",
       "    <tr>\n",
       "      <th>45327</th>\n",
       "      <td>11676</td>\n",
       "      <td>\\0432534220\\\"\"</td>\n",
       "      <td>6</td>\n",
       "      <td>13602</td>\n",
       "    </tr>\n",
       "    <tr>\n",
       "      <th>45328</th>\n",
       "      <td>11676</td>\n",
       "      <td>\\2842053052\\\"\"</td>\n",
       "      <td>7</td>\n",
       "      <td>13602</td>\n",
       "    </tr>\n",
       "    <tr>\n",
       "      <th>45329</th>\n",
       "      <td>11676</td>\n",
       "      <td>0 7336 1053 6</td>\n",
       "      <td>0</td>\n",
       "      <td>13602</td>\n",
       "    </tr>\n",
       "    <tr>\n",
       "      <th>45330</th>\n",
       "      <td>11676</td>\n",
       "      <td>0=965044153</td>\n",
       "      <td>7</td>\n",
       "      <td>13602</td>\n",
       "    </tr>\n",
       "  </tbody>\n",
       "</table>\n",
       "</div>"
      ],
      "text/plain": [
       "       User-ID            ISBN  Book-Rating  Ratings_counts\n",
       "45326    11676      9022906116            7           13602\n",
       "45327    11676  \\0432534220\\\"\"            6           13602\n",
       "45328    11676  \\2842053052\\\"\"            7           13602\n",
       "45329    11676   0 7336 1053 6            0           13602\n",
       "45330    11676     0=965044153            7           13602"
      ]
     },
     "execution_count": 257,
     "metadata": {},
     "output_type": "execute_result"
    }
   ],
   "source": [
    "ratings_new[ratings_new['User-ID']==11676].head()"
   ]
  },
  {
   "cell_type": "code",
   "execution_count": 258,
   "metadata": {},
   "outputs": [],
   "source": [
    "ratings_new['ISBN']=ratings_new['ISBN'].apply(remove_special_characters_and_extra_spaces)"
   ]
  },
  {
   "cell_type": "code",
   "execution_count": 259,
   "metadata": {},
   "outputs": [
    {
     "data": {
      "text/plain": [
       "339899"
      ]
     },
     "execution_count": 259,
     "metadata": {},
     "output_type": "execute_result"
    }
   ],
   "source": [
    "len(count_values(ratings_new,\"ISBN\",\"ISBN_counts\")[\"ISBN\"].apply(remove_special_characters_and_extra_spaces).unique())"
   ]
  },
  {
   "cell_type": "code",
   "execution_count": 260,
   "metadata": {},
   "outputs": [],
   "source": [
    "ratings_new['ISBN']=ratings_new['ISBN'].apply(remove_special_characters_and_extra_spaces)"
   ]
  },
  {
   "cell_type": "code",
   "execution_count": 261,
   "metadata": {},
   "outputs": [
    {
     "data": {
      "text/html": [
       "<div>\n",
       "<style scoped>\n",
       "    .dataframe tbody tr th:only-of-type {\n",
       "        vertical-align: middle;\n",
       "    }\n",
       "\n",
       "    .dataframe tbody tr th {\n",
       "        vertical-align: top;\n",
       "    }\n",
       "\n",
       "    .dataframe thead th {\n",
       "        text-align: right;\n",
       "    }\n",
       "</style>\n",
       "<table border=\"1\" class=\"dataframe\">\n",
       "  <thead>\n",
       "    <tr style=\"text-align: right;\">\n",
       "      <th></th>\n",
       "      <th>User-ID</th>\n",
       "      <th>ISBN</th>\n",
       "      <th>Book-Rating</th>\n",
       "      <th>Ratings_counts</th>\n",
       "    </tr>\n",
       "  </thead>\n",
       "  <tbody>\n",
       "    <tr>\n",
       "      <th>45326</th>\n",
       "      <td>11676</td>\n",
       "      <td>9022906116</td>\n",
       "      <td>7</td>\n",
       "      <td>13602</td>\n",
       "    </tr>\n",
       "    <tr>\n",
       "      <th>45327</th>\n",
       "      <td>11676</td>\n",
       "      <td>0432534220</td>\n",
       "      <td>6</td>\n",
       "      <td>13602</td>\n",
       "    </tr>\n",
       "    <tr>\n",
       "      <th>45328</th>\n",
       "      <td>11676</td>\n",
       "      <td>2842053052</td>\n",
       "      <td>7</td>\n",
       "      <td>13602</td>\n",
       "    </tr>\n",
       "    <tr>\n",
       "      <th>45329</th>\n",
       "      <td>11676</td>\n",
       "      <td>0733610536</td>\n",
       "      <td>0</td>\n",
       "      <td>13602</td>\n",
       "    </tr>\n",
       "    <tr>\n",
       "      <th>45330</th>\n",
       "      <td>11676</td>\n",
       "      <td>0965044153</td>\n",
       "      <td>7</td>\n",
       "      <td>13602</td>\n",
       "    </tr>\n",
       "    <tr>\n",
       "      <th>...</th>\n",
       "      <td>...</td>\n",
       "      <td>...</td>\n",
       "      <td>...</td>\n",
       "      <td>...</td>\n",
       "    </tr>\n",
       "    <tr>\n",
       "      <th>58923</th>\n",
       "      <td>11676</td>\n",
       "      <td>O77O428452</td>\n",
       "      <td>0</td>\n",
       "      <td>13602</td>\n",
       "    </tr>\n",
       "    <tr>\n",
       "      <th>58924</th>\n",
       "      <td>11676</td>\n",
       "      <td>O805063196</td>\n",
       "      <td>0</td>\n",
       "      <td>13602</td>\n",
       "    </tr>\n",
       "    <tr>\n",
       "      <th>58925</th>\n",
       "      <td>11676</td>\n",
       "      <td>O9088446X</td>\n",
       "      <td>8</td>\n",
       "      <td>13602</td>\n",
       "    </tr>\n",
       "    <tr>\n",
       "      <th>58926</th>\n",
       "      <td>11676</td>\n",
       "      <td>X000000000</td>\n",
       "      <td>10</td>\n",
       "      <td>13602</td>\n",
       "    </tr>\n",
       "    <tr>\n",
       "      <th>58927</th>\n",
       "      <td>11676</td>\n",
       "      <td>ZR903CX0003</td>\n",
       "      <td>1</td>\n",
       "      <td>13602</td>\n",
       "    </tr>\n",
       "  </tbody>\n",
       "</table>\n",
       "<p>13602 rows × 4 columns</p>\n",
       "</div>"
      ],
      "text/plain": [
       "       User-ID         ISBN  Book-Rating  Ratings_counts\n",
       "45326    11676   9022906116            7           13602\n",
       "45327    11676   0432534220            6           13602\n",
       "45328    11676   2842053052            7           13602\n",
       "45329    11676   0733610536            0           13602\n",
       "45330    11676   0965044153            7           13602\n",
       "...        ...          ...          ...             ...\n",
       "58923    11676   O77O428452            0           13602\n",
       "58924    11676   O805063196            0           13602\n",
       "58925    11676    O9088446X            8           13602\n",
       "58926    11676   X000000000           10           13602\n",
       "58927    11676  ZR903CX0003            1           13602\n",
       "\n",
       "[13602 rows x 4 columns]"
      ]
     },
     "execution_count": 261,
     "metadata": {},
     "output_type": "execute_result"
    }
   ],
   "source": [
    "ratings_new[ratings_new['User-ID']==11676]"
   ]
  },
  {
   "cell_type": "markdown",
   "metadata": {},
   "source": [
    "## User dataset"
   ]
  },
  {
   "cell_type": "code",
   "execution_count": 262,
   "metadata": {},
   "outputs": [],
   "source": [
    "users=pd.read_csv('Users.csv')\n",
    "users[\"Location\"]=users.Location.apply(upper_isbn)"
   ]
  },
  {
   "cell_type": "code",
   "execution_count": 263,
   "metadata": {},
   "outputs": [
    {
     "data": {
      "text/html": [
       "<div>\n",
       "<style scoped>\n",
       "    .dataframe tbody tr th:only-of-type {\n",
       "        vertical-align: middle;\n",
       "    }\n",
       "\n",
       "    .dataframe tbody tr th {\n",
       "        vertical-align: top;\n",
       "    }\n",
       "\n",
       "    .dataframe thead th {\n",
       "        text-align: right;\n",
       "    }\n",
       "</style>\n",
       "<table border=\"1\" class=\"dataframe\">\n",
       "  <thead>\n",
       "    <tr style=\"text-align: right;\">\n",
       "      <th></th>\n",
       "      <th>User-ID</th>\n",
       "      <th>Location</th>\n",
       "      <th>Age</th>\n",
       "    </tr>\n",
       "  </thead>\n",
       "  <tbody>\n",
       "    <tr>\n",
       "      <th>0</th>\n",
       "      <td>1</td>\n",
       "      <td>NYC, NEW YORK, USA</td>\n",
       "      <td>NaN</td>\n",
       "    </tr>\n",
       "    <tr>\n",
       "      <th>1</th>\n",
       "      <td>2</td>\n",
       "      <td>STOCKTON, CALIFORNIA, USA</td>\n",
       "      <td>18.0</td>\n",
       "    </tr>\n",
       "  </tbody>\n",
       "</table>\n",
       "</div>"
      ],
      "text/plain": [
       "   User-ID                   Location   Age\n",
       "0        1         NYC, NEW YORK, USA   NaN\n",
       "1        2  STOCKTON, CALIFORNIA, USA  18.0"
      ]
     },
     "execution_count": 263,
     "metadata": {},
     "output_type": "execute_result"
    }
   ],
   "source": [
    "users.head(2)"
   ]
  },
  {
   "cell_type": "code",
   "execution_count": 264,
   "metadata": {},
   "outputs": [],
   "source": [
    "def clean_data(text):\n",
    "    # Define a regular expression pattern to match anything that is not a letter or digit\n",
    "    pattern = r'[^a-zA-Z0-9\\s]+'\n",
    "\n",
    "    # Use re.sub() to replace all matches with an empty string\n",
    "    cleaned_text = re.sub(pattern, '', text)\n",
    "\n",
    "    return cleaned_text"
   ]
  },
  {
   "cell_type": "code",
   "execution_count": 265,
   "metadata": {},
   "outputs": [],
   "source": [
    "location_split=lambda x: x.split(\",\")\n",
    "location= lambda x: x[-3:]"
   ]
  },
  {
   "cell_type": "code",
   "execution_count": 266,
   "metadata": {},
   "outputs": [
    {
     "data": {
      "text/html": [
       "<div>\n",
       "<style scoped>\n",
       "    .dataframe tbody tr th:only-of-type {\n",
       "        vertical-align: middle;\n",
       "    }\n",
       "\n",
       "    .dataframe tbody tr th {\n",
       "        vertical-align: top;\n",
       "    }\n",
       "\n",
       "    .dataframe thead th {\n",
       "        text-align: right;\n",
       "    }\n",
       "</style>\n",
       "<table border=\"1\" class=\"dataframe\">\n",
       "  <thead>\n",
       "    <tr style=\"text-align: right;\">\n",
       "      <th></th>\n",
       "      <th>0</th>\n",
       "      <th>1</th>\n",
       "      <th>2</th>\n",
       "    </tr>\n",
       "  </thead>\n",
       "  <tbody>\n",
       "    <tr>\n",
       "      <th>0</th>\n",
       "      <td>NYC</td>\n",
       "      <td>NEW YORK</td>\n",
       "      <td>USA</td>\n",
       "    </tr>\n",
       "    <tr>\n",
       "      <th>1</th>\n",
       "      <td>STOCKTON</td>\n",
       "      <td>CALIFORNIA</td>\n",
       "      <td>USA</td>\n",
       "    </tr>\n",
       "  </tbody>\n",
       "</table>\n",
       "</div>"
      ],
      "text/plain": [
       "          0            1     2\n",
       "0       NYC     NEW YORK   USA\n",
       "1  STOCKTON   CALIFORNIA   USA"
      ]
     },
     "execution_count": 266,
     "metadata": {},
     "output_type": "execute_result"
    }
   ],
   "source": [
    "user_location=pd.DataFrame(users[\"Location\"].apply(location_split).apply(location).tolist())\n",
    "user_location.head(2)"
   ]
  },
  {
   "cell_type": "code",
   "execution_count": 267,
   "metadata": {},
   "outputs": [
    {
     "data": {
      "text/plain": [
       "708"
      ]
     },
     "execution_count": 267,
     "metadata": {},
     "output_type": "execute_result"
    }
   ],
   "source": [
    "len(user_location[2].unique())"
   ]
  },
  {
   "cell_type": "code",
   "execution_count": 272,
   "metadata": {},
   "outputs": [
    {
     "data": {
      "text/plain": [
       "0                         NYC NEW YORK USA\n",
       "1                  STOCKTON CALIFORNIA USA\n",
       "2            MOSCOW YUKON TERRITORY RUSSIA\n",
       "3                    PORTO VNGAIA PORTUGAL\n",
       "4         FARNBOROUGH HANTS UNITED KINGDOM\n",
       "                        ...               \n",
       "278853                 PORTLAND OREGON USA\n",
       "278854    TACOMA WASHINGTON UNITED KINGDOM\n",
       "278855             BRAMPTON ONTARIO CANADA\n",
       "278856             KNOXVILLE TENNESSEE USA\n",
       "278857                   DUBLIN NA IRELAND\n",
       "Name: Location, Length: 278858, dtype: object"
      ]
     },
     "execution_count": 272,
     "metadata": {},
     "output_type": "execute_result"
    }
   ],
   "source": [
    "users[\"Location\"].apply(clean_data)"
   ]
  },
  {
   "cell_type": "code",
   "execution_count": 268,
   "metadata": {},
   "outputs": [
    {
     "data": {
      "text/html": [
       "<div>\n",
       "<style scoped>\n",
       "    .dataframe tbody tr th:only-of-type {\n",
       "        vertical-align: middle;\n",
       "    }\n",
       "\n",
       "    .dataframe tbody tr th {\n",
       "        vertical-align: top;\n",
       "    }\n",
       "\n",
       "    .dataframe thead th {\n",
       "        text-align: right;\n",
       "    }\n",
       "</style>\n",
       "<table border=\"1\" class=\"dataframe\">\n",
       "  <thead>\n",
       "    <tr style=\"text-align: right;\">\n",
       "      <th></th>\n",
       "      <th>City</th>\n",
       "      <th>State</th>\n",
       "      <th>Country</th>\n",
       "    </tr>\n",
       "  </thead>\n",
       "  <tbody>\n",
       "    <tr>\n",
       "      <th>0</th>\n",
       "      <td>NYC</td>\n",
       "      <td>NEW YORK</td>\n",
       "      <td>USA</td>\n",
       "    </tr>\n",
       "    <tr>\n",
       "      <th>1</th>\n",
       "      <td>STOCKTON</td>\n",
       "      <td>CALIFORNIA</td>\n",
       "      <td>USA</td>\n",
       "    </tr>\n",
       "  </tbody>\n",
       "</table>\n",
       "</div>"
      ],
      "text/plain": [
       "       City        State Country\n",
       "0       NYC     NEW YORK     USA\n",
       "1  STOCKTON   CALIFORNIA     USA"
      ]
     },
     "execution_count": 268,
     "metadata": {},
     "output_type": "execute_result"
    }
   ],
   "source": [
    "user_location.rename(columns={0:\"City\",1:\"State\",2:\"Country\"}, inplace=True)\n",
    "user_location.head(2)"
   ]
  },
  {
   "cell_type": "code",
   "execution_count": 273,
   "metadata": {},
   "outputs": [],
   "source": [
    "user_location['City']=user_location['City'].apply(clean_data)\n",
    "#user_location['State']=user_location['State'].apply(clean_data)\n",
    "#user_location['Country']=user_location['Country'].apply(clean_data)"
   ]
  },
  {
   "cell_type": "code",
   "execution_count": 279,
   "metadata": {},
   "outputs": [],
   "source": [
    "user_location[\"State\"]=user_location[\"State\"].astype(\"str\")\n",
    "user_location['State']=user_location['State'].apply(clean_data)"
   ]
  },
  {
   "cell_type": "code",
   "execution_count": 281,
   "metadata": {},
   "outputs": [],
   "source": [
    "user_location[\"Country\"]=user_location[\"Country\"].astype(\"str\")\n",
    "user_location['Country']=user_location['Country'].apply(clean_data)"
   ]
  },
  {
   "cell_type": "code",
   "execution_count": 285,
   "metadata": {},
   "outputs": [
    {
     "data": {
      "text/html": [
       "<div>\n",
       "<style scoped>\n",
       "    .dataframe tbody tr th:only-of-type {\n",
       "        vertical-align: middle;\n",
       "    }\n",
       "\n",
       "    .dataframe tbody tr th {\n",
       "        vertical-align: top;\n",
       "    }\n",
       "\n",
       "    .dataframe thead th {\n",
       "        text-align: right;\n",
       "    }\n",
       "</style>\n",
       "<table border=\"1\" class=\"dataframe\">\n",
       "  <thead>\n",
       "    <tr style=\"text-align: right;\">\n",
       "      <th></th>\n",
       "      <th>User-ID</th>\n",
       "      <th>Age</th>\n",
       "      <th>City</th>\n",
       "      <th>State</th>\n",
       "      <th>Country</th>\n",
       "    </tr>\n",
       "  </thead>\n",
       "  <tbody>\n",
       "    <tr>\n",
       "      <th>0</th>\n",
       "      <td>1</td>\n",
       "      <td>NaN</td>\n",
       "      <td>NYC</td>\n",
       "      <td>NEW YORK</td>\n",
       "      <td>USA</td>\n",
       "    </tr>\n",
       "    <tr>\n",
       "      <th>1</th>\n",
       "      <td>2</td>\n",
       "      <td>18.0</td>\n",
       "      <td>STOCKTON</td>\n",
       "      <td>CALIFORNIA</td>\n",
       "      <td>USA</td>\n",
       "    </tr>\n",
       "  </tbody>\n",
       "</table>\n",
       "</div>"
      ],
      "text/plain": [
       "   User-ID   Age      City        State Country\n",
       "0        1   NaN       NYC     NEW YORK     USA\n",
       "1        2  18.0  STOCKTON   CALIFORNIA     USA"
      ]
     },
     "execution_count": 285,
     "metadata": {},
     "output_type": "execute_result"
    }
   ],
   "source": [
    "users.drop('Location', axis=1, inplace=True)\n",
    "users[user_location.columns]=user_location\n",
    "users.head(2)"
   ]
  },
  {
   "cell_type": "code",
   "execution_count": 286,
   "metadata": {},
   "outputs": [
    {
     "data": {
      "text/plain": [
       "606"
      ]
     },
     "execution_count": 286,
     "metadata": {},
     "output_type": "execute_result"
    }
   ],
   "source": [
    "len(users.Country.unique())"
   ]
  },
  {
   "cell_type": "code",
   "execution_count": 287,
   "metadata": {},
   "outputs": [
    {
     "name": "stdout",
     "output_type": "stream",
     "text": [
      "<class 'pandas.core.frame.DataFrame'>\n",
      "RangeIndex: 278858 entries, 0 to 278857\n",
      "Data columns (total 5 columns):\n",
      " #   Column   Non-Null Count   Dtype  \n",
      "---  ------   --------------   -----  \n",
      " 0   User-ID  278858 non-null  int64  \n",
      " 1   Age      168096 non-null  float64\n",
      " 2   City     278858 non-null  object \n",
      " 3   State    278858 non-null  object \n",
      " 4   Country  278858 non-null  object \n",
      "dtypes: float64(1), int64(1), object(3)\n",
      "memory usage: 10.6+ MB\n"
     ]
    }
   ],
   "source": [
    "users.info()"
   ]
  },
  {
   "cell_type": "code",
   "execution_count": 288,
   "metadata": {},
   "outputs": [],
   "source": [
    "users[[\"Age\",\"City\",\"State\",\"Country\"]]=users[[\"Age\",\"City\",\"State\",\"Country\"]].fillna(\"NOT PROVIDED\")"
   ]
  },
  {
   "cell_type": "code",
   "execution_count": 289,
   "metadata": {},
   "outputs": [
    {
     "name": "stdout",
     "output_type": "stream",
     "text": [
      "<class 'pandas.core.frame.DataFrame'>\n",
      "RangeIndex: 278858 entries, 0 to 278857\n",
      "Data columns (total 5 columns):\n",
      " #   Column   Non-Null Count   Dtype \n",
      "---  ------   --------------   ----- \n",
      " 0   User-ID  278858 non-null  int64 \n",
      " 1   Age      278858 non-null  object\n",
      " 2   City     278858 non-null  object\n",
      " 3   State    278858 non-null  object\n",
      " 4   Country  278858 non-null  object\n",
      "dtypes: int64(1), object(4)\n",
      "memory usage: 10.6+ MB\n"
     ]
    }
   ],
   "source": [
    "users.info()"
   ]
  },
  {
   "cell_type": "code",
   "execution_count": 290,
   "metadata": {},
   "outputs": [
    {
     "data": {
      "text/html": [
       "<div>\n",
       "<style scoped>\n",
       "    .dataframe tbody tr th:only-of-type {\n",
       "        vertical-align: middle;\n",
       "    }\n",
       "\n",
       "    .dataframe tbody tr th {\n",
       "        vertical-align: top;\n",
       "    }\n",
       "\n",
       "    .dataframe thead th {\n",
       "        text-align: right;\n",
       "    }\n",
       "</style>\n",
       "<table border=\"1\" class=\"dataframe\">\n",
       "  <thead>\n",
       "    <tr style=\"text-align: right;\">\n",
       "      <th></th>\n",
       "      <th>User-ID</th>\n",
       "      <th>Age</th>\n",
       "      <th>City</th>\n",
       "      <th>State</th>\n",
       "      <th>Country</th>\n",
       "    </tr>\n",
       "  </thead>\n",
       "  <tbody>\n",
       "    <tr>\n",
       "      <th>0</th>\n",
       "      <td>1</td>\n",
       "      <td>NOT PROVIDED</td>\n",
       "      <td>NYC</td>\n",
       "      <td>NEW YORK</td>\n",
       "      <td>USA</td>\n",
       "    </tr>\n",
       "    <tr>\n",
       "      <th>1</th>\n",
       "      <td>2</td>\n",
       "      <td>18.0</td>\n",
       "      <td>STOCKTON</td>\n",
       "      <td>CALIFORNIA</td>\n",
       "      <td>USA</td>\n",
       "    </tr>\n",
       "    <tr>\n",
       "      <th>2</th>\n",
       "      <td>3</td>\n",
       "      <td>NOT PROVIDED</td>\n",
       "      <td>MOSCOW</td>\n",
       "      <td>YUKON TERRITORY</td>\n",
       "      <td>RUSSIA</td>\n",
       "    </tr>\n",
       "    <tr>\n",
       "      <th>3</th>\n",
       "      <td>4</td>\n",
       "      <td>17.0</td>\n",
       "      <td>PORTO</td>\n",
       "      <td>VNGAIA</td>\n",
       "      <td>PORTUGAL</td>\n",
       "    </tr>\n",
       "    <tr>\n",
       "      <th>4</th>\n",
       "      <td>5</td>\n",
       "      <td>NOT PROVIDED</td>\n",
       "      <td>FARNBOROUGH</td>\n",
       "      <td>HANTS</td>\n",
       "      <td>UNITED KINGDOM</td>\n",
       "    </tr>\n",
       "    <tr>\n",
       "      <th>...</th>\n",
       "      <td>...</td>\n",
       "      <td>...</td>\n",
       "      <td>...</td>\n",
       "      <td>...</td>\n",
       "      <td>...</td>\n",
       "    </tr>\n",
       "    <tr>\n",
       "      <th>278853</th>\n",
       "      <td>278854</td>\n",
       "      <td>NOT PROVIDED</td>\n",
       "      <td>PORTLAND</td>\n",
       "      <td>OREGON</td>\n",
       "      <td>USA</td>\n",
       "    </tr>\n",
       "    <tr>\n",
       "      <th>278854</th>\n",
       "      <td>278855</td>\n",
       "      <td>50.0</td>\n",
       "      <td>TACOMA</td>\n",
       "      <td>WASHINGTON</td>\n",
       "      <td>UNITED KINGDOM</td>\n",
       "    </tr>\n",
       "    <tr>\n",
       "      <th>278855</th>\n",
       "      <td>278856</td>\n",
       "      <td>NOT PROVIDED</td>\n",
       "      <td>BRAMPTON</td>\n",
       "      <td>ONTARIO</td>\n",
       "      <td>CANADA</td>\n",
       "    </tr>\n",
       "    <tr>\n",
       "      <th>278856</th>\n",
       "      <td>278857</td>\n",
       "      <td>NOT PROVIDED</td>\n",
       "      <td>KNOXVILLE</td>\n",
       "      <td>TENNESSEE</td>\n",
       "      <td>USA</td>\n",
       "    </tr>\n",
       "    <tr>\n",
       "      <th>278857</th>\n",
       "      <td>278858</td>\n",
       "      <td>NOT PROVIDED</td>\n",
       "      <td>DUBLIN</td>\n",
       "      <td>NA</td>\n",
       "      <td>IRELAND</td>\n",
       "    </tr>\n",
       "  </tbody>\n",
       "</table>\n",
       "<p>278858 rows × 5 columns</p>\n",
       "</div>"
      ],
      "text/plain": [
       "        User-ID           Age         City             State          Country\n",
       "0             1  NOT PROVIDED          NYC          NEW YORK              USA\n",
       "1             2          18.0     STOCKTON        CALIFORNIA              USA\n",
       "2             3  NOT PROVIDED       MOSCOW   YUKON TERRITORY           RUSSIA\n",
       "3             4          17.0        PORTO            VNGAIA         PORTUGAL\n",
       "4             5  NOT PROVIDED  FARNBOROUGH             HANTS   UNITED KINGDOM\n",
       "...         ...           ...          ...               ...              ...\n",
       "278853   278854  NOT PROVIDED     PORTLAND            OREGON              USA\n",
       "278854   278855          50.0       TACOMA        WASHINGTON   UNITED KINGDOM\n",
       "278855   278856  NOT PROVIDED     BRAMPTON           ONTARIO           CANADA\n",
       "278856   278857  NOT PROVIDED    KNOXVILLE         TENNESSEE              USA\n",
       "278857   278858  NOT PROVIDED       DUBLIN                NA          IRELAND\n",
       "\n",
       "[278858 rows x 5 columns]"
      ]
     },
     "execution_count": 290,
     "metadata": {},
     "output_type": "execute_result"
    }
   ],
   "source": [
    "users"
   ]
  },
  {
   "cell_type": "markdown",
   "metadata": {},
   "source": [
    "#  Creating new data set using All 3 files data "
   ]
  },
  {
   "cell_type": "code",
   "execution_count": 291,
   "metadata": {},
   "outputs": [
    {
     "data": {
      "text/html": [
       "<div>\n",
       "<style scoped>\n",
       "    .dataframe tbody tr th:only-of-type {\n",
       "        vertical-align: middle;\n",
       "    }\n",
       "\n",
       "    .dataframe tbody tr th {\n",
       "        vertical-align: top;\n",
       "    }\n",
       "\n",
       "    .dataframe thead th {\n",
       "        text-align: right;\n",
       "    }\n",
       "</style>\n",
       "<table border=\"1\" class=\"dataframe\">\n",
       "  <thead>\n",
       "    <tr style=\"text-align: right;\">\n",
       "      <th></th>\n",
       "      <th>User-ID</th>\n",
       "      <th>ISBN</th>\n",
       "      <th>Book-Rating</th>\n",
       "      <th>Ratings_counts</th>\n",
       "    </tr>\n",
       "  </thead>\n",
       "  <tbody>\n",
       "    <tr>\n",
       "      <th>0</th>\n",
       "      <td>276725</td>\n",
       "      <td>034545104X</td>\n",
       "      <td>0</td>\n",
       "      <td>1</td>\n",
       "    </tr>\n",
       "    <tr>\n",
       "      <th>1</th>\n",
       "      <td>276726</td>\n",
       "      <td>0155061224</td>\n",
       "      <td>5</td>\n",
       "      <td>1</td>\n",
       "    </tr>\n",
       "  </tbody>\n",
       "</table>\n",
       "</div>"
      ],
      "text/plain": [
       "   User-ID        ISBN  Book-Rating  Ratings_counts\n",
       "0   276725  034545104X            0               1\n",
       "1   276726  0155061224            5               1"
      ]
     },
     "execution_count": 291,
     "metadata": {},
     "output_type": "execute_result"
    }
   ],
   "source": [
    "ratings_new.head(2)"
   ]
  },
  {
   "cell_type": "code",
   "execution_count": 292,
   "metadata": {},
   "outputs": [
    {
     "data": {
      "text/html": [
       "<div>\n",
       "<style scoped>\n",
       "    .dataframe tbody tr th:only-of-type {\n",
       "        vertical-align: middle;\n",
       "    }\n",
       "\n",
       "    .dataframe tbody tr th {\n",
       "        vertical-align: top;\n",
       "    }\n",
       "\n",
       "    .dataframe thead th {\n",
       "        text-align: right;\n",
       "    }\n",
       "</style>\n",
       "<table border=\"1\" class=\"dataframe\">\n",
       "  <thead>\n",
       "    <tr style=\"text-align: right;\">\n",
       "      <th></th>\n",
       "      <th>User-ID</th>\n",
       "      <th>Age</th>\n",
       "      <th>City</th>\n",
       "      <th>State</th>\n",
       "      <th>Country</th>\n",
       "    </tr>\n",
       "  </thead>\n",
       "  <tbody>\n",
       "    <tr>\n",
       "      <th>0</th>\n",
       "      <td>1</td>\n",
       "      <td>NOT PROVIDED</td>\n",
       "      <td>NYC</td>\n",
       "      <td>NEW YORK</td>\n",
       "      <td>USA</td>\n",
       "    </tr>\n",
       "    <tr>\n",
       "      <th>1</th>\n",
       "      <td>2</td>\n",
       "      <td>18.0</td>\n",
       "      <td>STOCKTON</td>\n",
       "      <td>CALIFORNIA</td>\n",
       "      <td>USA</td>\n",
       "    </tr>\n",
       "  </tbody>\n",
       "</table>\n",
       "</div>"
      ],
      "text/plain": [
       "   User-ID           Age      City        State Country\n",
       "0        1  NOT PROVIDED       NYC     NEW YORK     USA\n",
       "1        2          18.0  STOCKTON   CALIFORNIA     USA"
      ]
     },
     "execution_count": 292,
     "metadata": {},
     "output_type": "execute_result"
    }
   ],
   "source": [
    "users.head(2)"
   ]
  },
  {
   "cell_type": "code",
   "execution_count": 293,
   "metadata": {},
   "outputs": [
    {
     "data": {
      "text/html": [
       "<div>\n",
       "<style scoped>\n",
       "    .dataframe tbody tr th:only-of-type {\n",
       "        vertical-align: middle;\n",
       "    }\n",
       "\n",
       "    .dataframe tbody tr th {\n",
       "        vertical-align: top;\n",
       "    }\n",
       "\n",
       "    .dataframe thead th {\n",
       "        text-align: right;\n",
       "    }\n",
       "</style>\n",
       "<table border=\"1\" class=\"dataframe\">\n",
       "  <thead>\n",
       "    <tr style=\"text-align: right;\">\n",
       "      <th></th>\n",
       "      <th>ISBN</th>\n",
       "      <th>Book-Title</th>\n",
       "      <th>Book-Author</th>\n",
       "      <th>Year-Of-Publication</th>\n",
       "      <th>Publisher</th>\n",
       "      <th>Image-URL-S</th>\n",
       "      <th>Image-URL-M</th>\n",
       "      <th>Image-URL-L</th>\n",
       "    </tr>\n",
       "  </thead>\n",
       "  <tbody>\n",
       "    <tr>\n",
       "      <th>0</th>\n",
       "      <td>0195153448</td>\n",
       "      <td>Classical Mythology</td>\n",
       "      <td>Mark P. O. Morford</td>\n",
       "      <td>2002</td>\n",
       "      <td>Oxford University Press</td>\n",
       "      <td>http://images.amazon.com/images/P/0195153448.0...</td>\n",
       "      <td>http://images.amazon.com/images/P/0195153448.0...</td>\n",
       "      <td>http://images.amazon.com/images/P/0195153448.0...</td>\n",
       "    </tr>\n",
       "    <tr>\n",
       "      <th>1</th>\n",
       "      <td>0002005018</td>\n",
       "      <td>Clara Callan</td>\n",
       "      <td>Richard Bruce Wright</td>\n",
       "      <td>2001</td>\n",
       "      <td>HarperFlamingo Canada</td>\n",
       "      <td>http://images.amazon.com/images/P/0002005018.0...</td>\n",
       "      <td>http://images.amazon.com/images/P/0002005018.0...</td>\n",
       "      <td>http://images.amazon.com/images/P/0002005018.0...</td>\n",
       "    </tr>\n",
       "  </tbody>\n",
       "</table>\n",
       "</div>"
      ],
      "text/plain": [
       "         ISBN           Book-Title           Book-Author Year-Of-Publication  \\\n",
       "0  0195153448  Classical Mythology    Mark P. O. Morford                2002   \n",
       "1  0002005018         Clara Callan  Richard Bruce Wright                2001   \n",
       "\n",
       "                 Publisher                                        Image-URL-S  \\\n",
       "0  Oxford University Press  http://images.amazon.com/images/P/0195153448.0...   \n",
       "1    HarperFlamingo Canada  http://images.amazon.com/images/P/0002005018.0...   \n",
       "\n",
       "                                         Image-URL-M  \\\n",
       "0  http://images.amazon.com/images/P/0195153448.0...   \n",
       "1  http://images.amazon.com/images/P/0002005018.0...   \n",
       "\n",
       "                                         Image-URL-L  \n",
       "0  http://images.amazon.com/images/P/0195153448.0...  \n",
       "1  http://images.amazon.com/images/P/0002005018.0...  "
      ]
     },
     "execution_count": 293,
     "metadata": {},
     "output_type": "execute_result"
    }
   ],
   "source": [
    "books.head(2)"
   ]
  },
  {
   "cell_type": "code",
   "execution_count": 304,
   "metadata": {},
   "outputs": [],
   "source": [
    "\"\"\" ratings columns has max values also as we have multiple responses from each users on different books hence mergin significant columns from other dataset \n",
    " to this for further processing.\n",
    " Significant columns from book dataset are \"Book-Author\", \"Year-Of-Publication\", \"Publisher\"  Note: Not utlizing book title because we already have ISBN\n",
    " and URL columns can be utilized during deployment as it only contains book images\n",
    " from User dataset utlizing user country city state and Age and location columns is transform into 3 seprate columns for better understanding.\"\"\"\n",
    "final=ratings_new.merge(books[['ISBN','Book-Author','Year-Of-Publication','Publisher']], on='ISBN')"
   ]
  },
  {
   "cell_type": "code",
   "execution_count": 295,
   "metadata": {},
   "outputs": [],
   "source": [
    "final=final.merge(users, on='User-ID')"
   ]
  },
  {
   "cell_type": "code",
   "execution_count": 301,
   "metadata": {},
   "outputs": [],
   "source": [
    "\n",
    "final[\"Book-Author\"]=final[\"Book-Author\"].apply(clean_data)\n",
    "final[\"Publisher\"]=final[\"Publisher\"].apply(clean_data)"
   ]
  },
  {
   "cell_type": "code",
   "execution_count": 302,
   "metadata": {},
   "outputs": [
    {
     "data": {
      "text/html": [
       "<div>\n",
       "<style scoped>\n",
       "    .dataframe tbody tr th:only-of-type {\n",
       "        vertical-align: middle;\n",
       "    }\n",
       "\n",
       "    .dataframe tbody tr th {\n",
       "        vertical-align: top;\n",
       "    }\n",
       "\n",
       "    .dataframe thead th {\n",
       "        text-align: right;\n",
       "    }\n",
       "</style>\n",
       "<table border=\"1\" class=\"dataframe\">\n",
       "  <thead>\n",
       "    <tr style=\"text-align: right;\">\n",
       "      <th></th>\n",
       "      <th>User-ID</th>\n",
       "      <th>ISBN</th>\n",
       "      <th>Book-Rating</th>\n",
       "      <th>Ratings_counts</th>\n",
       "      <th>Book-Author</th>\n",
       "      <th>Year-Of-Publication</th>\n",
       "      <th>Publisher</th>\n",
       "      <th>Age</th>\n",
       "      <th>City</th>\n",
       "      <th>State</th>\n",
       "      <th>Country</th>\n",
       "    </tr>\n",
       "  </thead>\n",
       "  <tbody>\n",
       "    <tr>\n",
       "      <th>0</th>\n",
       "      <td>276725</td>\n",
       "      <td>034545104X</td>\n",
       "      <td>0</td>\n",
       "      <td>1</td>\n",
       "      <td>M J Rose</td>\n",
       "      <td>2002</td>\n",
       "      <td>Ballantine Books</td>\n",
       "      <td>NOT PROVIDED</td>\n",
       "      <td>TYLER</td>\n",
       "      <td>TEXAS</td>\n",
       "      <td>USA</td>\n",
       "    </tr>\n",
       "    <tr>\n",
       "      <th>1</th>\n",
       "      <td>2313</td>\n",
       "      <td>034545104X</td>\n",
       "      <td>5</td>\n",
       "      <td>37</td>\n",
       "      <td>M J Rose</td>\n",
       "      <td>2002</td>\n",
       "      <td>Ballantine Books</td>\n",
       "      <td>23.0</td>\n",
       "      <td>CINCINNATI</td>\n",
       "      <td>OHIO</td>\n",
       "      <td>USA</td>\n",
       "    </tr>\n",
       "    <tr>\n",
       "      <th>2</th>\n",
       "      <td>2313</td>\n",
       "      <td>0812533550</td>\n",
       "      <td>9</td>\n",
       "      <td>37</td>\n",
       "      <td>Orson Scott Card</td>\n",
       "      <td>1986</td>\n",
       "      <td>Tor Books</td>\n",
       "      <td>23.0</td>\n",
       "      <td>CINCINNATI</td>\n",
       "      <td>OHIO</td>\n",
       "      <td>USA</td>\n",
       "    </tr>\n",
       "    <tr>\n",
       "      <th>3</th>\n",
       "      <td>2313</td>\n",
       "      <td>0679745580</td>\n",
       "      <td>8</td>\n",
       "      <td>37</td>\n",
       "      <td>TRUMAN CAPOTE</td>\n",
       "      <td>1994</td>\n",
       "      <td>Vintage</td>\n",
       "      <td>23.0</td>\n",
       "      <td>CINCINNATI</td>\n",
       "      <td>OHIO</td>\n",
       "      <td>USA</td>\n",
       "    </tr>\n",
       "    <tr>\n",
       "      <th>4</th>\n",
       "      <td>2313</td>\n",
       "      <td>0060173289</td>\n",
       "      <td>9</td>\n",
       "      <td>37</td>\n",
       "      <td>Rebecca Wells</td>\n",
       "      <td>1996</td>\n",
       "      <td>HarperCollins</td>\n",
       "      <td>23.0</td>\n",
       "      <td>CINCINNATI</td>\n",
       "      <td>OHIO</td>\n",
       "      <td>USA</td>\n",
       "    </tr>\n",
       "    <tr>\n",
       "      <th>...</th>\n",
       "      <td>...</td>\n",
       "      <td>...</td>\n",
       "      <td>...</td>\n",
       "      <td>...</td>\n",
       "      <td>...</td>\n",
       "      <td>...</td>\n",
       "      <td>...</td>\n",
       "      <td>...</td>\n",
       "      <td>...</td>\n",
       "      <td>...</td>\n",
       "      <td>...</td>\n",
       "    </tr>\n",
       "    <tr>\n",
       "      <th>1031467</th>\n",
       "      <td>276442</td>\n",
       "      <td>2862749796</td>\n",
       "      <td>7</td>\n",
       "      <td>4</td>\n",
       "      <td>Katherine Neville</td>\n",
       "      <td>2002</td>\n",
       "      <td>Le Cherche Midi</td>\n",
       "      <td>62.0</td>\n",
       "      <td>GENVE</td>\n",
       "      <td>GENVE</td>\n",
       "      <td>SWITZERLAND</td>\n",
       "    </tr>\n",
       "    <tr>\n",
       "      <th>1031468</th>\n",
       "      <td>276618</td>\n",
       "      <td>3788097000</td>\n",
       "      <td>5</td>\n",
       "      <td>1</td>\n",
       "      <td>Ludwig Marum</td>\n",
       "      <td>1984</td>\n",
       "      <td>CF Mller</td>\n",
       "      <td>NOT PROVIDED</td>\n",
       "      <td>STUTTGART</td>\n",
       "      <td>NA</td>\n",
       "      <td>GERMANY</td>\n",
       "    </tr>\n",
       "    <tr>\n",
       "      <th>1031469</th>\n",
       "      <td>276647</td>\n",
       "      <td>0553571001</td>\n",
       "      <td>0</td>\n",
       "      <td>2</td>\n",
       "      <td>L M Montgomery</td>\n",
       "      <td>2001</td>\n",
       "      <td>Starfire</td>\n",
       "      <td>13.0</td>\n",
       "      <td>ARLINGTON HEIGHTS</td>\n",
       "      <td>ILLINOIS</td>\n",
       "      <td>USA</td>\n",
       "    </tr>\n",
       "    <tr>\n",
       "      <th>1031470</th>\n",
       "      <td>276647</td>\n",
       "      <td>0689822294</td>\n",
       "      <td>10</td>\n",
       "      <td>2</td>\n",
       "      <td>Angela Johnson</td>\n",
       "      <td>1998</td>\n",
       "      <td>Simon amp Schuster Childrens Publishing</td>\n",
       "      <td>13.0</td>\n",
       "      <td>ARLINGTON HEIGHTS</td>\n",
       "      <td>ILLINOIS</td>\n",
       "      <td>USA</td>\n",
       "    </tr>\n",
       "    <tr>\n",
       "      <th>1031471</th>\n",
       "      <td>276660</td>\n",
       "      <td>0583307841</td>\n",
       "      <td>8</td>\n",
       "      <td>1</td>\n",
       "      <td>David Antony Kroft</td>\n",
       "      <td>1985</td>\n",
       "      <td>HarperCollins Publishers</td>\n",
       "      <td>15.0</td>\n",
       "      <td>SINGAPORE</td>\n",
       "      <td>NA</td>\n",
       "      <td>SINGAPORE</td>\n",
       "    </tr>\n",
       "  </tbody>\n",
       "</table>\n",
       "<p>1031472 rows × 11 columns</p>\n",
       "</div>"
      ],
      "text/plain": [
       "         User-ID        ISBN  Book-Rating  Ratings_counts         Book-Author  \\\n",
       "0         276725  034545104X            0               1            M J Rose   \n",
       "1           2313  034545104X            5              37            M J Rose   \n",
       "2           2313  0812533550            9              37    Orson Scott Card   \n",
       "3           2313  0679745580            8              37       TRUMAN CAPOTE   \n",
       "4           2313  0060173289            9              37       Rebecca Wells   \n",
       "...          ...         ...          ...             ...                 ...   \n",
       "1031467   276442  2862749796            7               4   Katherine Neville   \n",
       "1031468   276618  3788097000            5               1        Ludwig Marum   \n",
       "1031469   276647  0553571001            0               2      L M Montgomery   \n",
       "1031470   276647  0689822294           10               2      Angela Johnson   \n",
       "1031471   276660  0583307841            8               1  David Antony Kroft   \n",
       "\n",
       "        Year-Of-Publication                                Publisher  \\\n",
       "0                      2002                         Ballantine Books   \n",
       "1                      2002                         Ballantine Books   \n",
       "2                      1986                                Tor Books   \n",
       "3                      1994                                  Vintage   \n",
       "4                      1996                            HarperCollins   \n",
       "...                     ...                                      ...   \n",
       "1031467                2002                          Le Cherche Midi   \n",
       "1031468                1984                                 CF Mller   \n",
       "1031469                2001                                 Starfire   \n",
       "1031470                1998  Simon amp Schuster Childrens Publishing   \n",
       "1031471                1985                 HarperCollins Publishers   \n",
       "\n",
       "                  Age               City      State       Country  \n",
       "0        NOT PROVIDED              TYLER      TEXAS           USA  \n",
       "1                23.0         CINCINNATI       OHIO           USA  \n",
       "2                23.0         CINCINNATI       OHIO           USA  \n",
       "3                23.0         CINCINNATI       OHIO           USA  \n",
       "4                23.0         CINCINNATI       OHIO           USA  \n",
       "...               ...                ...        ...           ...  \n",
       "1031467          62.0              GENVE      GENVE   SWITZERLAND  \n",
       "1031468  NOT PROVIDED          STUTTGART         NA       GERMANY  \n",
       "1031469          13.0  ARLINGTON HEIGHTS   ILLINOIS           USA  \n",
       "1031470          13.0  ARLINGTON HEIGHTS   ILLINOIS           USA  \n",
       "1031471          15.0          SINGAPORE         NA     SINGAPORE  \n",
       "\n",
       "[1031472 rows x 11 columns]"
      ]
     },
     "execution_count": 302,
     "metadata": {},
     "output_type": "execute_result"
    }
   ],
   "source": [
    "final"
   ]
  },
  {
   "cell_type": "code",
   "execution_count": null,
   "metadata": {},
   "outputs": [],
   "source": []
  }
 ],
 "metadata": {
  "kernelspec": {
   "display_name": "Python 3 (ipykernel)",
   "language": "python",
   "name": "python3"
  },
  "language_info": {
   "codemirror_mode": {
    "name": "ipython",
    "version": 3
   },
   "file_extension": ".py",
   "mimetype": "text/x-python",
   "name": "python",
   "nbconvert_exporter": "python",
   "pygments_lexer": "ipython3",
   "version": "3.9.13"
  }
 },
 "nbformat": 4,
 "nbformat_minor": 2
}
